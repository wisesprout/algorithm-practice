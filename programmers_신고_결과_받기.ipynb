{
  "nbformat": 4,
  "nbformat_minor": 0,
  "metadata": {
    "colab": {
      "name": "programmers_신고 결과 받기.ipynb",
      "provenance": [],
      "collapsed_sections": [],
      "authorship_tag": "ABX9TyPpe2fjz3KjJ7oVSg42eCh9",
      "include_colab_link": true
    },
    "kernelspec": {
      "name": "python3",
      "display_name": "Python 3"
    },
    "language_info": {
      "name": "python"
    }
  },
  "cells": [
    {
      "cell_type": "markdown",
      "metadata": {
        "id": "view-in-github",
        "colab_type": "text"
      },
      "source": [
        "<a href=\"https://colab.research.google.com/github/wisesprout/algorithm-practice/blob/main/programmers_%EC%8B%A0%EA%B3%A0_%EA%B2%B0%EA%B3%BC_%EB%B0%9B%EA%B8%B0.ipynb\" target=\"_parent\"><img src=\"https://colab.research.google.com/assets/colab-badge.svg\" alt=\"Open In Colab\"/></a>"
      ]
    },
    {
      "cell_type": "markdown",
      "source": [
        "# 신고 결과 받기"
      ],
      "metadata": {
        "id": "40LPeM9xLcAu"
      }
    },
    {
      "cell_type": "markdown",
      "source": [
        "### my solution"
      ],
      "metadata": {
        "id": "RmX_4VzVLdqu"
      }
    },
    {
      "cell_type": "code",
      "source": [
        "def solution(id_list, report, k):\n",
        "    answer = [0] * len(id_list)  # id_list 순서와 동일\n",
        "    reports = {x : 0 for x in id_list}  # id_list의 ID를 키로 갖는 dict\n",
        "    print(reports)\n",
        "\n",
        "    for r in set(report):\n",
        "        print(r)\n",
        "        reports[r.split()[1]] += 1  # dict에서 id의 값에 신고 받은 횟수 추가\n",
        "\n",
        "    for r in set(report):\n",
        "        if reports[r.split()[1]] >= k:  # dict에 있는 id의 신고 받은 횟수가 k 이상이면\n",
        "            answer[id_list.index(r.split()[0])] += 1  # 신고자 id로 id_list에서의 인덱스를 찾아서 횟수 추가\n",
        "\n",
        "    return answer"
      ],
      "metadata": {
        "id": "TA27TS73eL8C"
      },
      "execution_count": null,
      "outputs": []
    },
    {
      "cell_type": "code",
      "source": [
        "solution([\"muzi\", \"frodo\", \"apeach\", \"neo\"], [\"muzi frodo\",\"apeach frodo\",\"frodo neo\",\"muzi neo\",\"apeach muzi\"], 2)"
      ],
      "metadata": {
        "colab": {
          "base_uri": "https://localhost:8080/"
        },
        "id": "8YIp63l9jZqK",
        "outputId": "334de727-47a6-47bd-e7e9-290c76a585d7"
      },
      "execution_count": null,
      "outputs": [
        {
          "output_type": "stream",
          "name": "stdout",
          "text": [
            "{'muzi': 0, 'frodo': 0, 'apeach': 0, 'neo': 0}\n",
            "muzi neo\n",
            "muzi frodo\n",
            "apeach muzi\n",
            "apeach frodo\n",
            "frodo neo\n"
          ]
        },
        {
          "output_type": "execute_result",
          "data": {
            "text/plain": [
              "[2, 1, 1, 0]"
            ]
          },
          "metadata": {},
          "execution_count": 41
        }
      ]
    },
    {
      "cell_type": "code",
      "source": [
        "solution([\"con\", \"ryan\"], [\"ryan con\", \"ryan con\", \"ryan con\", \"ryan con\", \"ryan con\"], 3)"
      ],
      "metadata": {
        "colab": {
          "base_uri": "https://localhost:8080/"
        },
        "id": "NvtXj6grltOT",
        "outputId": "8763de36-ee3e-409c-e26c-a06162a3d931"
      },
      "execution_count": null,
      "outputs": [
        {
          "output_type": "stream",
          "name": "stdout",
          "text": [
            "{'con': 0, 'ryan': 0}\n",
            "ryan con\n"
          ]
        },
        {
          "output_type": "execute_result",
          "data": {
            "text/plain": [
              "[0, 0]"
            ]
          },
          "metadata": {},
          "execution_count": 42
        }
      ]
    },
    {
      "cell_type": "markdown",
      "source": [
        "### reference"
      ],
      "metadata": {
        "id": "HgNPR9HzLfVC"
      }
    },
    {
      "cell_type": "code",
      "source": [
        "# list에서 중복 값 제거 -> set으로 변환"
      ],
      "metadata": {
        "id": "7eBefrJ3hdv-"
      },
      "execution_count": null,
      "outputs": []
    },
    {
      "cell_type": "code",
      "source": [
        "a = \"muzi frodo\"\n",
        "b = a.split()  # 홀수번째 인덱스의 아이디만 신고당한 아이디\n",
        "b[1]"
      ],
      "metadata": {
        "colab": {
          "base_uri": "https://localhost:8080/",
          "height": 35
        },
        "id": "01EUOJ_ILgYe",
        "outputId": "1ff87525-df5a-4d29-e3bf-a0ae66f0e8f4"
      },
      "execution_count": null,
      "outputs": [
        {
          "output_type": "execute_result",
          "data": {
            "text/plain": [
              "'frodo'"
            ],
            "application/vnd.google.colaboratory.intrinsic+json": {
              "type": "string"
            }
          },
          "metadata": {},
          "execution_count": 7
        }
      ]
    },
    {
      "cell_type": "code",
      "source": [
        "c = [\"muzi frodo\",\"apeach frodo\",\"frodo neo\",\"muzi neo\",\"apeach muzi\"]\n",
        "d = [c[i].split()[1] for i in range(len(c))]\n",
        "d"
      ],
      "metadata": {
        "colab": {
          "base_uri": "https://localhost:8080/"
        },
        "id": "yogaQFP3dmtc",
        "outputId": "1fc84a98-e9f2-420c-df34-22196b8b7b7d"
      },
      "execution_count": null,
      "outputs": [
        {
          "output_type": "execute_result",
          "data": {
            "text/plain": [
              "['frodo', 'frodo', 'neo', 'neo', 'muzi']"
            ]
          },
          "metadata": {},
          "execution_count": 8
        }
      ]
    },
    {
      "cell_type": "code",
      "source": [
        ""
      ],
      "metadata": {
        "id": "QMcEm-m_jces"
      },
      "execution_count": null,
      "outputs": []
    }
  ]
}