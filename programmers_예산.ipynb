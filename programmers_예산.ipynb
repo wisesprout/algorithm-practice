{
  "nbformat": 4,
  "nbformat_minor": 0,
  "metadata": {
    "colab": {
      "name": "programmers_예산.ipynb",
      "provenance": [],
      "collapsed_sections": [],
      "authorship_tag": "ABX9TyOCLjN/JGd9Alq+jaaZPeJA",
      "include_colab_link": true
    },
    "kernelspec": {
      "name": "python3",
      "display_name": "Python 3"
    },
    "language_info": {
      "name": "python"
    }
  },
  "cells": [
    {
      "cell_type": "markdown",
      "metadata": {
        "id": "view-in-github",
        "colab_type": "text"
      },
      "source": [
        "<a href=\"https://colab.research.google.com/github/wisesprout/algorithm-practice/blob/main/programmers_%EC%98%88%EC%82%B0.ipynb\" target=\"_parent\"><img src=\"https://colab.research.google.com/assets/colab-badge.svg\" alt=\"Open In Colab\"/></a>"
      ]
    },
    {
      "cell_type": "markdown",
      "source": [
        "# 예산"
      ],
      "metadata": {
        "id": "g-4MpQ0dMnDS"
      }
    },
    {
      "cell_type": "markdown",
      "source": [
        "### my solution"
      ],
      "metadata": {
        "id": "xnLGiEsDMpP8"
      }
    },
    {
      "cell_type": "code",
      "execution_count": null,
      "metadata": {
        "id": "IUGEtfoaMk9Q"
      },
      "outputs": [],
      "source": [
        "def solution(d, budget):\n",
        "    answer = 0\n",
        "    while (min(d) <= budget):\n",
        "        budget -= d.pop(d.index(min(d)))\n",
        "        print(budget)\n",
        "        answer += 1\n",
        "        if len(d) == 0:\n",
        "            break\n",
        "    return answer"
      ]
    },
    {
      "cell_type": "code",
      "source": [
        "solution([1,3,2,5,4], 9)  # 3"
      ],
      "metadata": {
        "colab": {
          "base_uri": "https://localhost:8080/"
        },
        "id": "gluUTqhTNIM-",
        "outputId": "1cdb42f5-5728-4e8d-e45c-9a212a2df406"
      },
      "execution_count": null,
      "outputs": [
        {
          "output_type": "stream",
          "name": "stdout",
          "text": [
            "8\n",
            "6\n",
            "3\n"
          ]
        },
        {
          "output_type": "execute_result",
          "data": {
            "text/plain": [
              "3"
            ]
          },
          "metadata": {},
          "execution_count": 24
        }
      ]
    },
    {
      "cell_type": "code",
      "source": [
        "solution([2,2,3,3], 10)  # 4"
      ],
      "metadata": {
        "colab": {
          "base_uri": "https://localhost:8080/"
        },
        "id": "8flqouxGNMJe",
        "outputId": "cc22c1fb-8576-4a62-c44f-a04016898cb4"
      },
      "execution_count": null,
      "outputs": [
        {
          "output_type": "stream",
          "name": "stdout",
          "text": [
            "8\n",
            "6\n",
            "3\n",
            "0\n"
          ]
        },
        {
          "output_type": "execute_result",
          "data": {
            "text/plain": [
              "4"
            ]
          },
          "metadata": {},
          "execution_count": 25
        }
      ]
    },
    {
      "cell_type": "markdown",
      "source": [
        "### reference"
      ],
      "metadata": {
        "id": "2bpO-8vtMrHA"
      }
    },
    {
      "cell_type": "code",
      "source": [
        "def solution(d, budget):\n",
        "    d.sort()\n",
        "    while budget < sum(d):\n",
        "        d.pop()\n",
        "    return len(d)"
      ],
      "metadata": {
        "id": "Oz580NG2MqYN"
      },
      "execution_count": null,
      "outputs": []
    },
    {
      "cell_type": "code",
      "source": [
        ""
      ],
      "metadata": {
        "id": "DTfn6_5dPdeT"
      },
      "execution_count": null,
      "outputs": []
    }
  ]
}