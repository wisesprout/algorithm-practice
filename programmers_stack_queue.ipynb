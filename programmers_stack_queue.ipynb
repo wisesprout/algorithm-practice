{
  "nbformat": 4,
  "nbformat_minor": 0,
  "metadata": {
    "colab": {
      "name": "programmers_stack/queue.ipynb",
      "provenance": [],
      "collapsed_sections": [],
      "authorship_tag": "ABX9TyPZQjrZ9q5WKhL00beza7JX",
      "include_colab_link": true
    },
    "kernelspec": {
      "name": "python3",
      "display_name": "Python 3"
    },
    "language_info": {
      "name": "python"
    }
  },
  "cells": [
    {
      "cell_type": "markdown",
      "metadata": {
        "id": "view-in-github",
        "colab_type": "text"
      },
      "source": [
        "<a href=\"https://colab.research.google.com/github/wisesprout/algorithm-practice/blob/main/programmers_stack_queue.ipynb\" target=\"_parent\"><img src=\"https://colab.research.google.com/assets/colab-badge.svg\" alt=\"Open In Colab\"/></a>"
      ]
    },
    {
      "cell_type": "markdown",
      "source": [
        "# Level 2 기능개발"
      ],
      "metadata": {
        "id": "ARQDGjx3ohg0"
      }
    },
    {
      "cell_type": "markdown",
      "source": [
        "### my solution"
      ],
      "metadata": {
        "id": "XYzN33z5okMB"
      }
    },
    {
      "cell_type": "code",
      "source": [
        "import math\n",
        "\n",
        "def solution(progresses, speeds):\n",
        "    answer=[]\n",
        "    count = 1\n",
        "\n",
        "    days = [math.ceil((100-progresses[i])/speeds[i]) for i in range(len(progresses))]\n",
        "    print('days 리스트:',days)\n",
        "\n",
        "    for i in range(len(days)):\n",
        "        try:\n",
        "            if days[i] < days[i+1]:   # 현재 작업 완성, 뒷 작업 미완성\n",
        "                answer.append(count)   # 여태 한 작업 갯수 추가\n",
        "                count=1  # 작업 갯수 초기화\n",
        "            else:  # 현재 작업 미완성\n",
        "                days[i+1] = days[i]  # 뒷 작업을 현재 작업 완성 날짜로 바꿈\n",
        "                count += 1  # 작업 갯수 추가\n",
        "        except IndexError:  # 뒷 작업이 없는 경우\n",
        "            answer.append(count)  # 배포 작업 수 추가\n",
        "    return answer"
      ],
      "metadata": {
        "id": "ZQHaPxlJYE_k"
      },
      "execution_count": 21,
      "outputs": []
    },
    {
      "cell_type": "code",
      "source": [
        "solution([93, 30, 55],[1,30,5])"
      ],
      "metadata": {
        "colab": {
          "base_uri": "https://localhost:8080/"
        },
        "id": "atn3hD6QhBxS",
        "outputId": "71000d5c-33d4-4ad3-8051-86bae0508728"
      },
      "execution_count": 22,
      "outputs": [
        {
          "output_type": "stream",
          "name": "stdout",
          "text": [
            "days 리스트: [7, 3, 9]\n"
          ]
        },
        {
          "output_type": "execute_result",
          "data": {
            "text/plain": [
              "[2, 1]"
            ]
          },
          "metadata": {},
          "execution_count": 22
        }
      ]
    },
    {
      "cell_type": "code",
      "source": [
        "solution([95,90,99,99,80,99],[1,1,1,1,1,1])"
      ],
      "metadata": {
        "colab": {
          "base_uri": "https://localhost:8080/"
        },
        "id": "8AMp-F_lhEGw",
        "outputId": "756f6c6b-47ca-461d-a6af-712846101d15"
      },
      "execution_count": 23,
      "outputs": [
        {
          "output_type": "stream",
          "name": "stdout",
          "text": [
            "days 리스트: [5, 10, 1, 1, 20, 1]\n"
          ]
        },
        {
          "output_type": "execute_result",
          "data": {
            "text/plain": [
              "[1, 3, 2]"
            ]
          },
          "metadata": {},
          "execution_count": 23
        }
      ]
    },
    {
      "cell_type": "code",
      "source": [
        ""
      ],
      "metadata": {
        "id": "Jd3CjiEUtWGa"
      },
      "execution_count": null,
      "outputs": []
    }
  ]
}