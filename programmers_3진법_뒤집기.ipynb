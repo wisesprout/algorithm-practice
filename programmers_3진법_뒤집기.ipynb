{
  "nbformat": 4,
  "nbformat_minor": 0,
  "metadata": {
    "colab": {
      "name": "programmers_3진법 뒤집기.ipynb",
      "provenance": [],
      "collapsed_sections": [],
      "authorship_tag": "ABX9TyPfqXyMqcI2TqawNp/CpyY1",
      "include_colab_link": true
    },
    "kernelspec": {
      "name": "python3",
      "display_name": "Python 3"
    },
    "language_info": {
      "name": "python"
    }
  },
  "cells": [
    {
      "cell_type": "markdown",
      "metadata": {
        "id": "view-in-github",
        "colab_type": "text"
      },
      "source": [
        "<a href=\"https://colab.research.google.com/github/wisesprout/algorithm-practice/blob/main/programmers_3%EC%A7%84%EB%B2%95_%EB%92%A4%EC%A7%91%EA%B8%B0.ipynb\" target=\"_parent\"><img src=\"https://colab.research.google.com/assets/colab-badge.svg\" alt=\"Open In Colab\"/></a>"
      ]
    },
    {
      "cell_type": "markdown",
      "source": [
        "# 3진법 뒤집기"
      ],
      "metadata": {
        "id": "CdbQi-QIesXD"
      }
    },
    {
      "cell_type": "markdown",
      "source": [
        "### my solution"
      ],
      "metadata": {
        "id": "AvwWdIBtev8m"
      }
    },
    {
      "cell_type": "code",
      "execution_count": null,
      "metadata": {
        "id": "CLONerwIemKE"
      },
      "outputs": [],
      "source": [
        "def solution(n):\n",
        "    tri_rev = []\n",
        "    while n != 0:\n",
        "        if n >=3:\n",
        "            tri_rev.append(n%3)\n",
        "            n //= 3\n",
        "        else:\n",
        "            tri_rev.append(n)\n",
        "            n=0\n",
        "    print('tri_rev:',tri_rev)\n",
        "    \n",
        "    answer=0\n",
        "    for t in range(len(tri_rev)):\n",
        "        answer += tri_rev[t]*3**(len(tri_rev)-t-1)\n",
        "    return answer"
      ]
    },
    {
      "cell_type": "code",
      "source": [
        "solution(45)  # 7"
      ],
      "metadata": {
        "colab": {
          "base_uri": "https://localhost:8080/"
        },
        "id": "QjOl9DPqe3_S",
        "outputId": "929ef03a-57e6-4095-ba35-844d59f28ca1"
      },
      "execution_count": null,
      "outputs": [
        {
          "output_type": "stream",
          "name": "stdout",
          "text": [
            "tri_rev: [0, 0, 2, 1]\n"
          ]
        },
        {
          "output_type": "execute_result",
          "data": {
            "text/plain": [
              "7"
            ]
          },
          "metadata": {},
          "execution_count": 17
        }
      ]
    },
    {
      "cell_type": "code",
      "source": [
        "solution(125)  # 229"
      ],
      "metadata": {
        "id": "g9t0Y9_Ke6EQ",
        "colab": {
          "base_uri": "https://localhost:8080/"
        },
        "outputId": "3f3b693c-cc15-4ed5-ca6d-c9fff8190993"
      },
      "execution_count": null,
      "outputs": [
        {
          "output_type": "stream",
          "name": "stdout",
          "text": [
            "tri_rev: [2, 2, 1, 1, 1]\n"
          ]
        },
        {
          "output_type": "execute_result",
          "data": {
            "text/plain": [
              "229"
            ]
          },
          "metadata": {},
          "execution_count": 18
        }
      ]
    },
    {
      "cell_type": "markdown",
      "source": [
        "### reference"
      ],
      "metadata": {
        "id": "DLlE2vOdeyT5"
      }
    },
    {
      "cell_type": "code",
      "source": [
        "def solution(n):\n",
        "    tmp = ''\n",
        "    while n:\n",
        "        tmp += str(n % 3)\n",
        "        n = n // 3\n",
        "\n",
        "    answer = int(tmp, 3)\n",
        "    return answer"
      ],
      "metadata": {
        "id": "mrqajbjHezZg"
      },
      "execution_count": null,
      "outputs": []
    }
  ]
}