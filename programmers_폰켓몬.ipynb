{
  "nbformat": 4,
  "nbformat_minor": 0,
  "metadata": {
    "colab": {
      "name": "programmers_폰켓몬.ipynb",
      "provenance": [],
      "collapsed_sections": [],
      "authorship_tag": "ABX9TyP6bsVv+miiijXpOHFIClsV",
      "include_colab_link": true
    },
    "kernelspec": {
      "name": "python3",
      "display_name": "Python 3"
    },
    "language_info": {
      "name": "python"
    }
  },
  "cells": [
    {
      "cell_type": "markdown",
      "metadata": {
        "id": "view-in-github",
        "colab_type": "text"
      },
      "source": [
        "<a href=\"https://colab.research.google.com/github/wisesprout/algorithm-practice/blob/main/programmers_%ED%8F%B0%EC%BC%93%EB%AA%AC.ipynb\" target=\"_parent\"><img src=\"https://colab.research.google.com/assets/colab-badge.svg\" alt=\"Open In Colab\"/></a>"
      ]
    },
    {
      "cell_type": "markdown",
      "source": [
        "# 폰켓몬"
      ],
      "metadata": {
        "id": "ZrnZ21UH6iRJ"
      }
    },
    {
      "cell_type": "markdown",
      "source": [
        "### my solution"
      ],
      "metadata": {
        "id": "k-DZHNFE6kWV"
      }
    },
    {
      "cell_type": "code",
      "execution_count": null,
      "metadata": {
        "id": "pWrn5zo-6LGR"
      },
      "outputs": [],
      "source": [
        "def solution(nums):\n",
        "    num = len(nums)/2  # 선택하는 폰켓몬 갯수\n",
        "    max = len(set(nums))  # 폰켓몬 종류의 갯수\n",
        "    answer = int(num) if max>num else max  # 종류의 갯수가 선택하는 폰켓몬 갯수보다 많으면 선택하는 갯수, 아니면 종류의 갯수\n",
        "    return answer"
      ]
    },
    {
      "cell_type": "code",
      "source": [
        "solution([3,1,2,3])  # 2"
      ],
      "metadata": {
        "colab": {
          "base_uri": "https://localhost:8080/"
        },
        "id": "sgqG9Pak6qQ1",
        "outputId": "8aafe716-402c-4ede-99b7-3c1c53e17cd2"
      },
      "execution_count": null,
      "outputs": [
        {
          "output_type": "execute_result",
          "data": {
            "text/plain": [
              "2"
            ]
          },
          "metadata": {},
          "execution_count": 6
        }
      ]
    },
    {
      "cell_type": "code",
      "source": [
        "solution([3,3,3,2,2,4])  # 3"
      ],
      "metadata": {
        "colab": {
          "base_uri": "https://localhost:8080/"
        },
        "id": "8-kJ7nNA6vDY",
        "outputId": "f46456a5-f4f9-43d5-ed16-b6256fa8d3c2"
      },
      "execution_count": null,
      "outputs": [
        {
          "output_type": "execute_result",
          "data": {
            "text/plain": [
              "3"
            ]
          },
          "metadata": {},
          "execution_count": 7
        }
      ]
    },
    {
      "cell_type": "code",
      "source": [
        "solution([3,3,3,2,2,2])  # 2"
      ],
      "metadata": {
        "colab": {
          "base_uri": "https://localhost:8080/"
        },
        "id": "hnbpi1yQ6xEZ",
        "outputId": "a709cc06-8245-41a5-cdac-71987af45d0a"
      },
      "execution_count": null,
      "outputs": [
        {
          "output_type": "execute_result",
          "data": {
            "text/plain": [
              "2"
            ]
          },
          "metadata": {},
          "execution_count": 8
        }
      ]
    },
    {
      "cell_type": "markdown",
      "source": [
        "### reference"
      ],
      "metadata": {
        "id": "BhobKnYv6mq4"
      }
    },
    {
      "cell_type": "code",
      "source": [
        "def solution(ls):\n",
        "    return min(len(ls)/2, len(set(ls)))"
      ],
      "metadata": {
        "id": "x-QCB6N46nfy"
      },
      "execution_count": null,
      "outputs": []
    }
  ]
}