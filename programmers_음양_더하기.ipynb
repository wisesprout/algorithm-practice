{
  "nbformat": 4,
  "nbformat_minor": 0,
  "metadata": {
    "colab": {
      "name": "programmers_음양 더하기.ipynb",
      "provenance": [],
      "collapsed_sections": [],
      "authorship_tag": "ABX9TyNqVDtpqLNRxjoxOlxhufi6",
      "include_colab_link": true
    },
    "kernelspec": {
      "name": "python3",
      "display_name": "Python 3"
    },
    "language_info": {
      "name": "python"
    }
  },
  "cells": [
    {
      "cell_type": "markdown",
      "metadata": {
        "id": "view-in-github",
        "colab_type": "text"
      },
      "source": [
        "<a href=\"https://colab.research.google.com/github/wisesprout/algorithm-practice/blob/main/programmers_%EC%9D%8C%EC%96%91_%EB%8D%94%ED%95%98%EA%B8%B0.ipynb\" target=\"_parent\"><img src=\"https://colab.research.google.com/assets/colab-badge.svg\" alt=\"Open In Colab\"/></a>"
      ]
    },
    {
      "cell_type": "markdown",
      "source": [
        "# 음양 더하기"
      ],
      "metadata": {
        "id": "V1SXXLInQQfN"
      }
    },
    {
      "cell_type": "markdown",
      "source": [
        "### my solution"
      ],
      "metadata": {
        "id": "m-W2OJF5QSDu"
      }
    },
    {
      "cell_type": "code",
      "execution_count": null,
      "metadata": {
        "id": "0rf64YnAQK3N"
      },
      "outputs": [],
      "source": [
        "def solution(absolutes, signs):\n",
        "    answer = 0\n",
        "    for i in range(len(absolutes)):\n",
        "        if signs[i] == True:\n",
        "            answer += absolutes[i]\n",
        "        else:\n",
        "            answer -= absolutes[i]\n",
        "    return answer"
      ]
    },
    {
      "cell_type": "code",
      "source": [
        "solution([4,7,12],[True,False,True])  # 9"
      ],
      "metadata": {
        "colab": {
          "base_uri": "https://localhost:8080/"
        },
        "id": "nshKCK_DQ2EC",
        "outputId": "87c2c1f0-9680-4791-df1b-0f174e042eec"
      },
      "execution_count": null,
      "outputs": [
        {
          "output_type": "execute_result",
          "data": {
            "text/plain": [
              "9"
            ]
          },
          "metadata": {},
          "execution_count": 3
        }
      ]
    },
    {
      "cell_type": "code",
      "source": [
        "solution([1,2,3],[False,False,True])  # 0"
      ],
      "metadata": {
        "colab": {
          "base_uri": "https://localhost:8080/"
        },
        "id": "sODPiWRHQ7eC",
        "outputId": "807dd1c4-103e-4337-9f07-2f73b5900f8d"
      },
      "execution_count": null,
      "outputs": [
        {
          "output_type": "execute_result",
          "data": {
            "text/plain": [
              "0"
            ]
          },
          "metadata": {},
          "execution_count": 4
        }
      ]
    },
    {
      "cell_type": "markdown",
      "source": [
        "### reference"
      ],
      "metadata": {
        "id": "YAzs1IXPQT2a"
      }
    },
    {
      "cell_type": "code",
      "source": [
        "def solution(absolutes, signs):\n",
        "    return sum(absolutes if sign else -absolutes for absolutes, sign in zip(absolutes, signs))"
      ],
      "metadata": {
        "id": "1fk50fRPQUpM"
      },
      "execution_count": null,
      "outputs": []
    }
  ]
}