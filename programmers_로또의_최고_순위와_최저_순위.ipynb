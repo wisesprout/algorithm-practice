{
  "nbformat": 4,
  "nbformat_minor": 0,
  "metadata": {
    "colab": {
      "name": "programmers_로또의 최고 순위와 최저 순위.ipynb",
      "provenance": [],
      "collapsed_sections": [],
      "authorship_tag": "ABX9TyMBqRndo0/Bfv67IVXEbXZ2",
      "include_colab_link": true
    },
    "kernelspec": {
      "name": "python3",
      "display_name": "Python 3"
    },
    "language_info": {
      "name": "python"
    }
  },
  "cells": [
    {
      "cell_type": "markdown",
      "metadata": {
        "id": "view-in-github",
        "colab_type": "text"
      },
      "source": [
        "<a href=\"https://colab.research.google.com/github/wisesprout/algorithm-practice/blob/main/programmers_%EB%A1%9C%EB%98%90%EC%9D%98_%EC%B5%9C%EA%B3%A0_%EC%88%9C%EC%9C%84%EC%99%80_%EC%B5%9C%EC%A0%80_%EC%88%9C%EC%9C%84.ipynb\" target=\"_parent\"><img src=\"https://colab.research.google.com/assets/colab-badge.svg\" alt=\"Open In Colab\"/></a>"
      ]
    },
    {
      "cell_type": "markdown",
      "source": [
        "# 로또의 최고 순위와 최저 순위"
      ],
      "metadata": {
        "id": "wNop_-wrKps9"
      }
    },
    {
      "cell_type": "markdown",
      "source": [
        "### my solution"
      ],
      "metadata": {
        "id": "hr3gcue9Ks1x"
      }
    },
    {
      "cell_type": "markdown",
      "source": [
        "- 번호를 다 알아볼 수 있고 모든 번호가 틀린 경우 -> 7-(맞힌수+알아볼 수 없는 수) = 7이 됨"
      ],
      "metadata": {
        "id": "mC1WMINkSFP0"
      }
    },
    {
      "cell_type": "code",
      "execution_count": null,
      "metadata": {
        "id": "9XHop7g2KjpP"
      },
      "outputs": [],
      "source": [
        "def solution(lottos, win_nums):\n",
        "    correct = 0  # 맞힌 번호 수\n",
        "    unknown = 0  # 알아볼 수 없는 번호 수\n",
        "    for l in lottos:  # 찍은 번호 중에 맞힌 번호와 알아볼 수 없는 번호 세기\n",
        "        if l == 0:\n",
        "            unknown += 1\n",
        "        elif l in win_nums: \n",
        "            correct += 1\n",
        "    return [6 if (correct == 0) & (unknown==0) else 7-(correct+unknown), 7-correct if correct >= 2 else 6]"
      ]
    },
    {
      "cell_type": "code",
      "source": [
        "solution([44,1,0,0,31,25],[31, 10, 45, 1, 6, 19])  # [3,5]"
      ],
      "metadata": {
        "colab": {
          "base_uri": "https://localhost:8080/"
        },
        "id": "peL0-G8jQHC7",
        "outputId": "89a4e1f2-7a2e-413f-d4d7-fa4a61d0ed3c"
      },
      "execution_count": null,
      "outputs": [
        {
          "output_type": "execute_result",
          "data": {
            "text/plain": [
              "[3, 5]"
            ]
          },
          "metadata": {},
          "execution_count": 12
        }
      ]
    },
    {
      "cell_type": "code",
      "source": [
        "solution([0, 0, 0, 0, 0, 0], [38, 19, 20, 40, 15, 25])  # [1, 6]"
      ],
      "metadata": {
        "colab": {
          "base_uri": "https://localhost:8080/"
        },
        "id": "ApnpTrAQQQvC",
        "outputId": "5f6d1db1-e8ca-494f-a6df-270da2868e40"
      },
      "execution_count": null,
      "outputs": [
        {
          "output_type": "execute_result",
          "data": {
            "text/plain": [
              "[1, 6]"
            ]
          },
          "metadata": {},
          "execution_count": 13
        }
      ]
    },
    {
      "cell_type": "code",
      "source": [
        "solution([45, 4, 35, 20, 3, 9], [20, 9, 3, 45, 4, 35])  # [1, 1]"
      ],
      "metadata": {
        "colab": {
          "base_uri": "https://localhost:8080/"
        },
        "id": "Z0Z3zRElQh-g",
        "outputId": "54776436-0ba3-418c-dea6-a4cf0d77c304"
      },
      "execution_count": null,
      "outputs": [
        {
          "output_type": "execute_result",
          "data": {
            "text/plain": [
              "[1, 1]"
            ]
          },
          "metadata": {},
          "execution_count": 14
        }
      ]
    },
    {
      "cell_type": "markdown",
      "source": [
        "### reference"
      ],
      "metadata": {
        "id": "jezMnH9PTIPT"
      }
    },
    {
      "cell_type": "code",
      "source": [
        "def solution(lottos, win_nums):\n",
        "    rank=[6,6,5,4,3,2,1]  # rank의 index = 맞힌 갯수\n",
        "\n",
        "    cnt_0 = lottos.count(0)\n",
        "    ans = 0\n",
        "    for x in win_nums:\n",
        "        if x in lottos:\n",
        "            ans += 1\n",
        "    return rank[cnt_0 + ans],rank[ans]\n"
      ],
      "metadata": {
        "id": "oTnIL67_RAjb"
      },
      "execution_count": null,
      "outputs": []
    }
  ]
}