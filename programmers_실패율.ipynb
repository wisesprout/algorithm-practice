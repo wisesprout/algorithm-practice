{
  "nbformat": 4,
  "nbformat_minor": 0,
  "metadata": {
    "colab": {
      "name": "programmers_실패율.ipynb",
      "provenance": [],
      "collapsed_sections": [],
      "authorship_tag": "ABX9TyNPFe+eSPIgq4rnelQ5/uGS",
      "include_colab_link": true
    },
    "kernelspec": {
      "name": "python3",
      "display_name": "Python 3"
    },
    "language_info": {
      "name": "python"
    }
  },
  "cells": [
    {
      "cell_type": "markdown",
      "metadata": {
        "id": "view-in-github",
        "colab_type": "text"
      },
      "source": [
        "<a href=\"https://colab.research.google.com/github/wisesprout/algorithm-practice/blob/main/programmers_%EC%8B%A4%ED%8C%A8%EC%9C%A8.ipynb\" target=\"_parent\"><img src=\"https://colab.research.google.com/assets/colab-badge.svg\" alt=\"Open In Colab\"/></a>"
      ]
    },
    {
      "cell_type": "markdown",
      "source": [
        "# 실패율"
      ],
      "metadata": {
        "id": "htNfN2VJS047"
      }
    },
    {
      "cell_type": "markdown",
      "source": [
        "### my solution"
      ],
      "metadata": {
        "id": "qVwuDeu3S2_D"
      }
    },
    {
      "cell_type": "code",
      "source": [
        "def solution(N, stages):\n",
        "    levels=[0]*(N+1)\n",
        "    #failure=[0]*(N)\n",
        "    fail={}\n",
        "    print(levels)\n",
        "    for i in range(len(stages)):  #0 -> 1 -> 2 -> 3\n",
        "        levels[stages[i]-1] += 1  #fail[2]=1 -> fail[1]=1 -> fail[2]=2 -> fail[6]\n",
        "    print(levels)\n",
        "    for i in range(len(levels)):\n",
        "        if i != N:\n",
        "            fail[i+1] = levels[i]/sum(levels[i:])\n",
        "    fail = sorted(fail.items(), key = lambda item: item[1], reverse = True)\n",
        "    print(fail)\n",
        "    answer = [a[0] for a in fail]\n",
        "    return answer"
      ],
      "metadata": {
        "id": "Sd-5K1K0S2tW"
      },
      "execution_count": null,
      "outputs": []
    },
    {
      "cell_type": "code",
      "source": [
        "solution(5,[2,1,2,6,2,4,3,3])  # [3,4,2,1,5]"
      ],
      "metadata": {
        "colab": {
          "base_uri": "https://localhost:8080/"
        },
        "id": "Bg_k3J53Q3EK",
        "outputId": "77a8c3f3-c075-4604-83f5-4abe24bc4749"
      },
      "execution_count": null,
      "outputs": [
        {
          "output_type": "stream",
          "name": "stdout",
          "text": [
            "[0, 0, 0, 0, 0, 0]\n",
            "[1, 3, 2, 1, 0, 1]\n",
            "[(3, 0.5), (4, 0.5), (2, 0.42857142857142855), (1, 0.125), (5, 0.0)]\n"
          ]
        },
        {
          "output_type": "execute_result",
          "data": {
            "text/plain": [
              "[3, 4, 2, 1, 5]"
            ]
          },
          "metadata": {},
          "execution_count": 37
        }
      ]
    },
    {
      "cell_type": "code",
      "source": [
        "solution(4,[4,4,4,4,4])  # [4,1,2,3]"
      ],
      "metadata": {
        "colab": {
          "base_uri": "https://localhost:8080/"
        },
        "id": "-nkv8Ih6Q6d5",
        "outputId": "f28744c7-59d2-45bc-c66b-f4210db12c5d"
      },
      "execution_count": null,
      "outputs": [
        {
          "output_type": "stream",
          "name": "stdout",
          "text": [
            "[0, 0, 0, 0, 0]\n",
            "[0, 0, 0, 5, 0]\n",
            "[(4, 1.0), (1, 0.0), (2, 0.0), (3, 0.0)]\n"
          ]
        },
        {
          "output_type": "execute_result",
          "data": {
            "text/plain": [
              "[4, 1, 2, 3]"
            ]
          },
          "metadata": {},
          "execution_count": 38
        }
      ]
    },
    {
      "cell_type": "markdown",
      "source": [
        "### reference"
      ],
      "metadata": {
        "id": "7lMo6vINS44C"
      }
    },
    {
      "cell_type": "code",
      "execution_count": 2,
      "metadata": {
        "id": "pio_VQkSSu5i"
      },
      "outputs": [],
      "source": [
        "def solution(N, stages):\n",
        "    People = len(stages)\n",
        "    faillist = {}\n",
        "    for i in range(1, N + 1):\n",
        "        if People != 0:\n",
        "            faillist[i] = stages.count(i) / People\n",
        "            print(faillist)\n",
        "            People -= stages.count(i)\n",
        "        else:\n",
        "            faillist[i] = 0\n",
        "\n",
        "    return sorted(faillist, key=lambda i: faillist[i], reverse=True)"
      ]
    },
    {
      "cell_type": "code",
      "source": [
        "solution(5,[2,1,2,6,2,4,3,3])  # [3,4,2,1,5]"
      ],
      "metadata": {
        "colab": {
          "base_uri": "https://localhost:8080/"
        },
        "id": "rGdVci7-G2ux",
        "outputId": "52a7b009-42b0-42e7-c3c8-1573d50b9d52"
      },
      "execution_count": 3,
      "outputs": [
        {
          "output_type": "stream",
          "name": "stdout",
          "text": [
            "{1: 0.125}\n",
            "{1: 0.125, 2: 0.42857142857142855}\n",
            "{1: 0.125, 2: 0.42857142857142855, 3: 0.5}\n",
            "{1: 0.125, 2: 0.42857142857142855, 3: 0.5, 4: 0.5}\n",
            "{1: 0.125, 2: 0.42857142857142855, 3: 0.5, 4: 0.5, 5: 0.0}\n"
          ]
        },
        {
          "output_type": "execute_result",
          "data": {
            "text/plain": [
              "[3, 4, 2, 1, 5]"
            ]
          },
          "metadata": {},
          "execution_count": 3
        }
      ]
    },
    {
      "cell_type": "code",
      "source": [
        ""
      ],
      "metadata": {
        "id": "is5D7UIEIHSH"
      },
      "execution_count": null,
      "outputs": []
    }
  ]
}