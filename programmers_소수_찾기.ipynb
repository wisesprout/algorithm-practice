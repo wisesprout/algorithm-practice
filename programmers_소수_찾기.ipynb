{
  "nbformat": 4,
  "nbformat_minor": 0,
  "metadata": {
    "colab": {
      "name": "programmers_소수 찾기.ipynb",
      "provenance": [],
      "authorship_tag": "ABX9TyMQRyy+OyD/hdA2+edeYyMY",
      "include_colab_link": true
    },
    "kernelspec": {
      "name": "python3",
      "display_name": "Python 3"
    },
    "language_info": {
      "name": "python"
    }
  },
  "cells": [
    {
      "cell_type": "markdown",
      "metadata": {
        "id": "view-in-github",
        "colab_type": "text"
      },
      "source": [
        "<a href=\"https://colab.research.google.com/github/wisesprout/algorithm-practice/blob/main/programmers_%EC%86%8C%EC%88%98_%EC%B0%BE%EA%B8%B0.ipynb\" target=\"_parent\"><img src=\"https://colab.research.google.com/assets/colab-badge.svg\" alt=\"Open In Colab\"/></a>"
      ]
    },
    {
      "cell_type": "markdown",
      "source": [
        "# 소수 찾기"
      ],
      "metadata": {
        "id": "0gROv7v3rn7O"
      }
    },
    {
      "cell_type": "markdown",
      "source": [
        "### my solution"
      ],
      "metadata": {
        "id": "p0OT78sSrn9T"
      }
    },
    {
      "cell_type": "code",
      "execution_count": 13,
      "metadata": {
        "id": "BDIi3NbwrlzW"
      },
      "outputs": [],
      "source": [
        "def solution(n):\n",
        "    num = set(range(2,n+1))\n",
        "    \n",
        "    for i in range(2,n+1):\n",
        "        if i in num:\n",
        "            num -= set(range(2*i, n+1, i))\n",
        " \n",
        "    return len(num)"
      ]
    },
    {
      "cell_type": "code",
      "source": [
        "solution(10)  # 4"
      ],
      "metadata": {
        "colab": {
          "base_uri": "https://localhost:8080/"
        },
        "id": "HYLiqtkLr1uy",
        "outputId": "575ad31e-6c38-4545-f24c-b3b5041dde59"
      },
      "execution_count": 14,
      "outputs": [
        {
          "output_type": "execute_result",
          "data": {
            "text/plain": [
              "4"
            ]
          },
          "metadata": {},
          "execution_count": 14
        }
      ]
    },
    {
      "cell_type": "code",
      "source": [
        "solution(5)  # 3"
      ],
      "metadata": {
        "colab": {
          "base_uri": "https://localhost:8080/"
        },
        "id": "JZcArNRUr4Nh",
        "outputId": "dd32b235-bca4-4058-e497-557fae9fdaa4"
      },
      "execution_count": 12,
      "outputs": [
        {
          "output_type": "execute_result",
          "data": {
            "text/plain": [
              "3"
            ]
          },
          "metadata": {},
          "execution_count": 12
        }
      ]
    },
    {
      "cell_type": "markdown",
      "source": [
        "### reference X"
      ],
      "metadata": {
        "id": "tB7BjMx6rn_b"
      }
    },
    {
      "cell_type": "code",
      "source": [
        ""
      ],
      "metadata": {
        "id": "Cx2veSAKtonY"
      },
      "execution_count": null,
      "outputs": []
    }
  ]
}