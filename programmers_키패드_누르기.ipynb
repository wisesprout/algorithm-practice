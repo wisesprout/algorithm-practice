{
  "nbformat": 4,
  "nbformat_minor": 0,
  "metadata": {
    "colab": {
      "name": "programmers_키패드 누르기.ipynb",
      "provenance": [],
      "collapsed_sections": [],
      "authorship_tag": "ABX9TyPfm35l7JlEWPpV74vxHqx7",
      "include_colab_link": true
    },
    "kernelspec": {
      "name": "python3",
      "display_name": "Python 3"
    },
    "language_info": {
      "name": "python"
    }
  },
  "cells": [
    {
      "cell_type": "markdown",
      "metadata": {
        "id": "view-in-github",
        "colab_type": "text"
      },
      "source": [
        "<a href=\"https://colab.research.google.com/github/wisesprout/algorithm-practice/blob/main/programmers_%ED%82%A4%ED%8C%A8%EB%93%9C_%EB%88%84%EB%A5%B4%EA%B8%B0.ipynb\" target=\"_parent\"><img src=\"https://colab.research.google.com/assets/colab-badge.svg\" alt=\"Open In Colab\"/></a>"
      ]
    },
    {
      "cell_type": "markdown",
      "source": [
        "# 키패드 누르기"
      ],
      "metadata": {
        "id": "x2gIxEFIi1Nc"
      }
    },
    {
      "cell_type": "markdown",
      "source": [
        "### my solution"
      ],
      "metadata": {
        "id": "owqkFPU3i8BU"
      }
    },
    {
      "cell_type": "code",
      "execution_count": null,
      "metadata": {
        "id": "KFXkC5z-iyE_"
      },
      "outputs": [],
      "source": [
        "def solution(numbers, hand):\n",
        "    answer = ''\n",
        "\n",
        "    # 각 번호의 좌표\n",
        "    coor = {1:[0,0],\n",
        "            2:[0,1],\n",
        "            3:[0,2],\n",
        "            4:[1,0],\n",
        "            5:[1,1],\n",
        "            6:[1,2],\n",
        "            7:[2,0],\n",
        "            8:[2,1],\n",
        "            9:[2,2],\n",
        "            '*':[3,0],\n",
        "            0:[3,1],\n",
        "            '#':[3,2]}\n",
        "\n",
        "    # 각 손가락의 위치\n",
        "    left = coor['*']\n",
        "    right = coor['#']\n",
        "\n",
        "    for n in numbers:\n",
        "        num = coor[n]  # 누를 번호의 위치\n",
        "        \n",
        "        # 1,4,7 = 왼손\n",
        "        if n in [1,4,7]:\n",
        "            answer += 'L'\n",
        "            left = num  # 왼손 위치에 누른 번호 위치 저장\n",
        "        \n",
        "        # 3,6,9 = 오른손\n",
        "        elif n in [3,6,9]:\n",
        "            answer += 'R'\n",
        "            right = num  # 오른손 위치에 누른 번호 위치 저장\n",
        "\n",
        "        # 2,5,8,0\n",
        "        else:\n",
        "            # 각 손가락과의 거리 계산\n",
        "            left_d, right_d = 0, 0\n",
        "            left_d = abs(left[0]-num[0]) + abs(left[1]-num[1])\n",
        "            right_d = abs(right[0]-num[0]) + abs(right[1]-num[1])\n",
        "\n",
        "            # 왼손이 더 가까운 경우\n",
        "            if left_d < right_d:\n",
        "                answer += 'L'\n",
        "                left = num\n",
        "\n",
        "            # 오른손이 더 가까운 경우\n",
        "            elif right_d < left_d:\n",
        "                answer += 'R'\n",
        "                right = num\n",
        "\n",
        "            # 두 거리가 같은 경우\n",
        "            else:\n",
        "                # 왼손잡이인 경우\n",
        "                if hand == 'left':\n",
        "                    answer += 'L'\n",
        "                    left = num\n",
        "                    \n",
        "                # 오른손잡이인 경우\n",
        "                else:\n",
        "                    answer += 'R'\n",
        "                    right = num\n",
        "                    \n",
        "    return answer"
      ]
    },
    {
      "cell_type": "code",
      "source": [
        "solution([1, 3, 4, 5, 8, 2, 1, 4, 5, 9, 5],\t\"right\")  #\t\"LRLLLRLLRRL\""
      ],
      "metadata": {
        "colab": {
          "base_uri": "https://localhost:8080/",
          "height": 35
        },
        "id": "83Ltqm41nGKW",
        "outputId": "6daa657c-3d19-4ceb-ecdc-8e8ca2799d14"
      },
      "execution_count": null,
      "outputs": [
        {
          "output_type": "execute_result",
          "data": {
            "text/plain": [
              "'LRLLLRLLRRL'"
            ],
            "application/vnd.google.colaboratory.intrinsic+json": {
              "type": "string"
            }
          },
          "metadata": {},
          "execution_count": 26
        }
      ]
    },
    {
      "cell_type": "code",
      "source": [
        "solution([7, 0, 8, 2, 8, 3, 1, 5, 7, 6, 2],\t\"left\")  # \"LRLLRRLLLRR\""
      ],
      "metadata": {
        "colab": {
          "base_uri": "https://localhost:8080/",
          "height": 35
        },
        "id": "zf4ybAlWnLDS",
        "outputId": "d28bf80d-e4f9-496f-dc52-3d5780a00488"
      },
      "execution_count": null,
      "outputs": [
        {
          "output_type": "execute_result",
          "data": {
            "text/plain": [
              "'LRLLRRLLLRR'"
            ],
            "application/vnd.google.colaboratory.intrinsic+json": {
              "type": "string"
            }
          },
          "metadata": {},
          "execution_count": 27
        }
      ]
    },
    {
      "cell_type": "code",
      "source": [
        "solution([1, 2, 3, 4, 5, 6, 7, 8, 9, 0], \"right\")  # \"LLRLLRLLRL\""
      ],
      "metadata": {
        "colab": {
          "base_uri": "https://localhost:8080/",
          "height": 35
        },
        "id": "5ggzFOuznQYA",
        "outputId": "16706653-f42c-4bb7-e752-6a1a02a65ea3"
      },
      "execution_count": null,
      "outputs": [
        {
          "output_type": "execute_result",
          "data": {
            "text/plain": [
              "'LLRLLRLLRL'"
            ],
            "application/vnd.google.colaboratory.intrinsic+json": {
              "type": "string"
            }
          },
          "metadata": {},
          "execution_count": 28
        }
      ]
    },
    {
      "cell_type": "markdown",
      "source": [
        "### reference X"
      ],
      "metadata": {
        "id": "iGdDXfuii4MS"
      }
    },
    {
      "cell_type": "code",
      "source": [
        ""
      ],
      "metadata": {
        "id": "v632d0fJi2kb"
      },
      "execution_count": null,
      "outputs": []
    }
  ]
}