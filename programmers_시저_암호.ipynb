{
  "nbformat": 4,
  "nbformat_minor": 0,
  "metadata": {
    "colab": {
      "name": "programmers_시저 암호.ipynb",
      "provenance": [],
      "collapsed_sections": [],
      "authorship_tag": "ABX9TyOsD+BiCoxHwLfO+EWyYQab",
      "include_colab_link": true
    },
    "kernelspec": {
      "name": "python3",
      "display_name": "Python 3"
    },
    "language_info": {
      "name": "python"
    }
  },
  "cells": [
    {
      "cell_type": "markdown",
      "metadata": {
        "id": "view-in-github",
        "colab_type": "text"
      },
      "source": [
        "<a href=\"https://colab.research.google.com/github/wisesprout/algorithm-practice/blob/main/programmers_%EC%8B%9C%EC%A0%80_%EC%95%94%ED%98%B8.ipynb\" target=\"_parent\"><img src=\"https://colab.research.google.com/assets/colab-badge.svg\" alt=\"Open In Colab\"/></a>"
      ]
    },
    {
      "cell_type": "markdown",
      "source": [
        "# 시저 암호"
      ],
      "metadata": {
        "id": "2W8b0-di3u9D"
      }
    },
    {
      "cell_type": "markdown",
      "source": [
        "### my solution"
      ],
      "metadata": {
        "id": "Kru66v_T3u_I"
      }
    },
    {
      "cell_type": "code",
      "execution_count": null,
      "metadata": {
        "id": "1LEUY90H3mNS"
      },
      "outputs": [],
      "source": [
        "def solution(s, n):\n",
        "    upper = 'ABCDEFGHIJKLMNOPQRSTUVWXYZ'\n",
        "    lower = 'abcdefghijklmnopqrstuvwxyz'\n",
        "    answer = ''\n",
        "    for c in s:\n",
        "        if c.islower():\n",
        "            try:\n",
        "                c = lower[lower.index(c)+n]\n",
        "            except:\n",
        "                c = lower[(lower.index(c)+n)-26]\n",
        "        elif c.isupper():\n",
        "            try:\n",
        "                c = upper[upper.index(c)+n]\n",
        "            except:\n",
        "                c = upper[(upper.index(c)+n)-26]\n",
        "        \n",
        "        answer += c\n",
        "            \n",
        "    return answer"
      ]
    },
    {
      "cell_type": "code",
      "source": [
        "solution('AB', 1)  # BC"
      ],
      "metadata": {
        "colab": {
          "base_uri": "https://localhost:8080/",
          "height": 35
        },
        "id": "_zdkiZHo6OkC",
        "outputId": "7a177111-d774-4a8c-a0c1-faac5519421c"
      },
      "execution_count": null,
      "outputs": [
        {
          "output_type": "execute_result",
          "data": {
            "text/plain": [
              "'BC'"
            ],
            "application/vnd.google.colaboratory.intrinsic+json": {
              "type": "string"
            }
          },
          "metadata": {},
          "execution_count": 20
        }
      ]
    },
    {
      "cell_type": "code",
      "source": [
        "solution('z', 1)  # a"
      ],
      "metadata": {
        "colab": {
          "base_uri": "https://localhost:8080/",
          "height": 35
        },
        "id": "AFMY5poY6Wtj",
        "outputId": "c4e8fb65-160d-4a97-b343-4c2adf0ee717"
      },
      "execution_count": null,
      "outputs": [
        {
          "output_type": "execute_result",
          "data": {
            "text/plain": [
              "'a'"
            ],
            "application/vnd.google.colaboratory.intrinsic+json": {
              "type": "string"
            }
          },
          "metadata": {},
          "execution_count": 21
        }
      ]
    },
    {
      "cell_type": "code",
      "source": [
        "solution('a B z', 4)  # 'e F d'"
      ],
      "metadata": {
        "colab": {
          "base_uri": "https://localhost:8080/",
          "height": 35
        },
        "id": "70XXSQBu8m9l",
        "outputId": "5b9befa7-f4d6-46f5-fbc9-ccfaf1d84a06"
      },
      "execution_count": null,
      "outputs": [
        {
          "output_type": "execute_result",
          "data": {
            "text/plain": [
              "'e F d'"
            ],
            "application/vnd.google.colaboratory.intrinsic+json": {
              "type": "string"
            }
          },
          "metadata": {},
          "execution_count": 22
        }
      ]
    },
    {
      "cell_type": "markdown",
      "source": [
        "### reference X"
      ],
      "metadata": {
        "id": "VFCQQl3f3vCs"
      }
    }
  ]
}