{
  "nbformat": 4,
  "nbformat_minor": 0,
  "metadata": {
    "colab": {
      "name": "programmers_sort.ipynb",
      "provenance": [],
      "collapsed_sections": [],
      "authorship_tag": "ABX9TyNUEN+PPikRtmgTOaaelsiG",
      "include_colab_link": true
    },
    "kernelspec": {
      "name": "python3",
      "display_name": "Python 3"
    },
    "language_info": {
      "name": "python"
    }
  },
  "cells": [
    {
      "cell_type": "markdown",
      "metadata": {
        "id": "view-in-github",
        "colab_type": "text"
      },
      "source": [
        "<a href=\"https://colab.research.google.com/github/wisesprout/algorithm-practice/blob/main/programmers_sort.ipynb\" target=\"_parent\"><img src=\"https://colab.research.google.com/assets/colab-badge.svg\" alt=\"Open In Colab\"/></a>"
      ]
    },
    {
      "cell_type": "markdown",
      "source": [
        "# K번째수"
      ],
      "metadata": {
        "id": "dQ0jJa3fuGYa"
      }
    },
    {
      "cell_type": "markdown",
      "source": [
        "### my solution"
      ],
      "metadata": {
        "id": "8rQ_Tt4JuJgw"
      }
    },
    {
      "cell_type": "code",
      "execution_count": null,
      "metadata": {
        "id": "YEk6ju_juC8o"
      },
      "outputs": [],
      "source": [
        "def solution(array, commands):\n",
        "    array, commands = array, commands\n",
        "    answer = []\n",
        "    for com in commands:\n",
        "        i, j, k = com[0]-1, com[1]-1, com[2]-1\n",
        "        print(i, j, k)\n",
        "        new_array = array[i:j+1]\n",
        "        print('cut',new_array)\n",
        "        new_array.sort()\n",
        "        print('sorted',new_array)\n",
        "        answer.append(new_array[k])\n",
        "        print('answer:',answer)\n",
        "        print('----------------------')\n",
        "    \n",
        "    return answer"
      ]
    },
    {
      "cell_type": "code",
      "source": [
        "solution([1, 5, 2, 6, 3, 7, 4], [[2, 5, 3], [4, 4, 1], [1, 7, 3]])"
      ],
      "metadata": {
        "colab": {
          "base_uri": "https://localhost:8080/"
        },
        "id": "b7M4RpYYuOxW",
        "outputId": "63d3c148-e046-4b28-c1e3-3c38f9de3adc"
      },
      "execution_count": null,
      "outputs": [
        {
          "output_type": "stream",
          "name": "stdout",
          "text": [
            "1 4 2\n",
            "cut [5, 2, 6, 3]\n",
            "sorted [2, 3, 5, 6]\n",
            "answer: [5]\n",
            "----------------------\n",
            "3 3 0\n",
            "cut [6]\n",
            "sorted [6]\n",
            "answer: [5, 6]\n",
            "----------------------\n",
            "0 6 2\n",
            "cut [1, 5, 2, 6, 3, 7, 4]\n",
            "sorted [1, 2, 3, 4, 5, 6, 7]\n",
            "answer: [5, 6, 3]\n",
            "----------------------\n"
          ]
        },
        {
          "output_type": "execute_result",
          "data": {
            "text/plain": [
              "[5, 6, 3]"
            ]
          },
          "metadata": {},
          "execution_count": 6
        }
      ]
    },
    {
      "cell_type": "markdown",
      "source": [
        "### reference code"
      ],
      "metadata": {
        "id": "vHVPUvK5v7rF"
      }
    },
    {
      "cell_type": "code",
      "source": [
        "def solution(array, commands):\n",
        "    return list(map(lambda x:sorted(array[x[0]-1:x[1]])[x[2]-1], commands))"
      ],
      "metadata": {
        "id": "ohIqlna3uX-p"
      },
      "execution_count": null,
      "outputs": []
    },
    {
      "cell_type": "markdown",
      "source": [
        "# 가장 큰 수"
      ],
      "metadata": {
        "id": "WJ2aRN3FqwmS"
      }
    },
    {
      "cell_type": "markdown",
      "source": [
        "### my solution"
      ],
      "metadata": {
        "id": "ytp03J-4qy5Y"
      }
    },
    {
      "cell_type": "markdown",
      "source": [
        "- 같은 앞자리끼리 배치 -> str sorted\n",
        "- 첫 자리가 같으면 합친 수의 두번째 자리 수가 개별 수의 첫 자리와 비교가 됨->따라서 자리수가 적으면 반복하는 숫자로 만들면 됨"
      ],
      "metadata": {
        "id": "p3RDOVUqxMid"
      }
    },
    {
      "cell_type": "code",
      "source": [
        "def solution(numbers):\n",
        "    numbers = list(map(str, numbers))  # numbers의 요소를 str으로 바꾼 리스트\n",
        "    print('numbers:',numbers)\n",
        "    numbers.sort(key=lambda x: x * 3, reverse=True)\n",
        "    print('정렬된 numbers:',numbers)\n",
        "    return str(int(''.join(numbers)))"
      ],
      "metadata": {
        "id": "vVqzZ2awqyPd"
      },
      "execution_count": 28,
      "outputs": []
    }
  ]
}