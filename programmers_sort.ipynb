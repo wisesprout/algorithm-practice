{
  "nbformat": 4,
  "nbformat_minor": 0,
  "metadata": {
    "colab": {
      "name": "programmers_sort.ipynb",
      "provenance": [],
      "collapsed_sections": [],
      "authorship_tag": "ABX9TyMiajFx/0CejqzEawUtaf4S",
      "include_colab_link": true
    },
    "kernelspec": {
      "name": "python3",
      "display_name": "Python 3"
    },
    "language_info": {
      "name": "python"
    }
  },
  "cells": [
    {
      "cell_type": "markdown",
      "metadata": {
        "id": "view-in-github",
        "colab_type": "text"
      },
      "source": [
        "<a href=\"https://colab.research.google.com/github/wisesprout/algorithm-practice/blob/main/programmers_sort.ipynb\" target=\"_parent\"><img src=\"https://colab.research.google.com/assets/colab-badge.svg\" alt=\"Open In Colab\"/></a>"
      ]
    },
    {
      "cell_type": "markdown",
      "source": [
        "# K번째수"
      ],
      "metadata": {
        "id": "dQ0jJa3fuGYa"
      }
    },
    {
      "cell_type": "markdown",
      "source": [
        "### my solution"
      ],
      "metadata": {
        "id": "8rQ_Tt4JuJgw"
      }
    },
    {
      "cell_type": "code",
      "execution_count": 5,
      "metadata": {
        "id": "YEk6ju_juC8o"
      },
      "outputs": [],
      "source": [
        "def solution(array, commands):\n",
        "    array, commands = array, commands\n",
        "    answer = []\n",
        "    for com in commands:\n",
        "        i, j, k = com[0]-1, com[1]-1, com[2]-1\n",
        "        print(i, j, k)\n",
        "        new_array = array[i:j+1]\n",
        "        print('cut',new_array)\n",
        "        new_array.sort()\n",
        "        print('sorted',new_array)\n",
        "        answer.append(new_array[k])\n",
        "        print('answer:',answer)\n",
        "        print('----------------------')\n",
        "    \n",
        "    return answer"
      ]
    },
    {
      "cell_type": "code",
      "source": [
        "solution([1, 5, 2, 6, 3, 7, 4], [[2, 5, 3], [4, 4, 1], [1, 7, 3]])"
      ],
      "metadata": {
        "colab": {
          "base_uri": "https://localhost:8080/"
        },
        "id": "b7M4RpYYuOxW",
        "outputId": "63d3c148-e046-4b28-c1e3-3c38f9de3adc"
      },
      "execution_count": 6,
      "outputs": [
        {
          "output_type": "stream",
          "name": "stdout",
          "text": [
            "1 4 2\n",
            "cut [5, 2, 6, 3]\n",
            "sorted [2, 3, 5, 6]\n",
            "answer: [5]\n",
            "----------------------\n",
            "3 3 0\n",
            "cut [6]\n",
            "sorted [6]\n",
            "answer: [5, 6]\n",
            "----------------------\n",
            "0 6 2\n",
            "cut [1, 5, 2, 6, 3, 7, 4]\n",
            "sorted [1, 2, 3, 4, 5, 6, 7]\n",
            "answer: [5, 6, 3]\n",
            "----------------------\n"
          ]
        },
        {
          "output_type": "execute_result",
          "data": {
            "text/plain": [
              "[5, 6, 3]"
            ]
          },
          "metadata": {},
          "execution_count": 6
        }
      ]
    },
    {
      "cell_type": "markdown",
      "source": [
        "### reference code"
      ],
      "metadata": {
        "id": "vHVPUvK5v7rF"
      }
    },
    {
      "cell_type": "code",
      "source": [
        "def solution(array, commands):\n",
        "    return list(map(lambda x:sorted(array[x[0]-1:x[1]])[x[2]-1], commands))"
      ],
      "metadata": {
        "id": "ohIqlna3uX-p"
      },
      "execution_count": null,
      "outputs": []
    }
  ]
}