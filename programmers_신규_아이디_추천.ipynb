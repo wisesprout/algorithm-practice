{
  "nbformat": 4,
  "nbformat_minor": 0,
  "metadata": {
    "colab": {
      "name": "programmers_신규 아이디 추천.ipynb",
      "provenance": [],
      "collapsed_sections": [],
      "authorship_tag": "ABX9TyNicCaOrPklk174ymvt0dpY",
      "include_colab_link": true
    },
    "kernelspec": {
      "name": "python3",
      "display_name": "Python 3"
    },
    "language_info": {
      "name": "python"
    }
  },
  "cells": [
    {
      "cell_type": "markdown",
      "metadata": {
        "id": "view-in-github",
        "colab_type": "text"
      },
      "source": [
        "<a href=\"https://colab.research.google.com/github/wisesprout/algorithm-practice/blob/main/programmers_%EC%8B%A0%EA%B7%9C_%EC%95%84%EC%9D%B4%EB%94%94_%EC%B6%94%EC%B2%9C.ipynb\" target=\"_parent\"><img src=\"https://colab.research.google.com/assets/colab-badge.svg\" alt=\"Open In Colab\"/></a>"
      ]
    },
    {
      "cell_type": "markdown",
      "source": [
        "# 신규 아이디 추천"
      ],
      "metadata": {
        "id": "7O8kMmapWLHw"
      }
    },
    {
      "cell_type": "markdown",
      "source": [
        "### my solution"
      ],
      "metadata": {
        "id": "tsuKEVRRWOR8"
      }
    },
    {
      "cell_type": "code",
      "execution_count": null,
      "metadata": {
        "id": "wR1VAPZsWHvf"
      },
      "outputs": [],
      "source": [
        "import re\n",
        "\n",
        "def solution(new_id):\n",
        "    # 1. 대문자->소문자\n",
        "    new_id = new_id.lower()\n",
        "    print('1:',new_id)\n",
        "    # 2. 알파벳 소문자, 숫자, 빼기(-), 밑줄(_), 마침표(.)를 제외한 모든 문자를 제거\n",
        "    new_id = re.sub('[^a-z0-9-_.]', '', new_id)\n",
        "    print('2:',new_id)\n",
        "    # 3. 마침표(.)가 2번 이상 연속된 부분을 하나의 마침표(.)로 치환\n",
        "    while '..' in new_id:\n",
        "        new_id = new_id.replace('..', '.')\n",
        "    print('3:',new_id)\n",
        "    # 4. new_id에서 마침표(.)가 처음이나 끝에 위치한다면 제거\n",
        "    if (new_id[0] == '.'):\n",
        "        new_id = new_id[1:]\n",
        "        if new_id == '':\n",
        "            new_id = 'a'\n",
        "    if (new_id[-1] == '.'):\n",
        "        new_id = new_id[:-1]\n",
        "    print('4:',new_id)\n",
        "    # 5. new_id가 빈 문자열이라면, new_id에 \"a\"를 대입합니다.\n",
        "    if new_id == '':\n",
        "        new_id = 'a'\n",
        "    print('5:',new_id)\n",
        "    # 6. new_id의 길이가 16자 이상이면, new_id의 첫 15개의 문자를 제외한 나머지 문자들을 모두 제거합니다.\n",
        "    #    만약 제거 후 마침표(.)가 new_id의 끝에 위치한다면 끝에 위치한 마침표(.) 문자를 제거합니다.\n",
        "    if len(new_id) >= 16:\n",
        "        new_id = new_id[:15]\n",
        "        if new_id[-1] == '.':\n",
        "            new_id = new_id[:-1]\n",
        "    print('6:',new_id)\n",
        "    # 7. new_id의 길이가 2자 이하라면, new_id의 마지막 문자를 new_id의 길이가 3이 될 때까지 반복해서 끝에 붙임\n",
        "    while len(new_id) <= 2:\n",
        "        new_id += new_id[-1]\n",
        "    print('7:',new_id)\n",
        "    return new_id"
      ]
    },
    {
      "cell_type": "code",
      "source": [
        "solution(\"...!@BaT#*..y.abcdefghijklm\")  # \"bat.y.abcdefghi\""
      ],
      "metadata": {
        "colab": {
          "base_uri": "https://localhost:8080/",
          "height": 160
        },
        "id": "0Hy-FR1uZW3Q",
        "outputId": "b481147b-4377-4b7e-d6f8-124a8fc48e23"
      },
      "execution_count": null,
      "outputs": [
        {
          "output_type": "stream",
          "name": "stdout",
          "text": [
            "1: ...!@bat#*..y.abcdefghijklm\n",
            "2: ...bat..y.abcdefghijklm\n",
            "3: .bat.y.abcdefghijklm\n",
            "4: bat.y.abcdefghijklm\n",
            "5: bat.y.abcdefghijklm\n",
            "6: bat.y.abcdefghi\n",
            "7: bat.y.abcdefghi\n"
          ]
        },
        {
          "output_type": "execute_result",
          "data": {
            "text/plain": [
              "'bat.y.abcdefghi'"
            ],
            "application/vnd.google.colaboratory.intrinsic+json": {
              "type": "string"
            }
          },
          "metadata": {},
          "execution_count": 43
        }
      ]
    },
    {
      "cell_type": "code",
      "source": [
        "solution(\"z-+.^.\")  # \"z--\""
      ],
      "metadata": {
        "colab": {
          "base_uri": "https://localhost:8080/",
          "height": 160
        },
        "id": "Xe-zG0ATut0W",
        "outputId": "748010f3-5e25-4e2e-e31a-bccb36db000a"
      },
      "execution_count": null,
      "outputs": [
        {
          "output_type": "stream",
          "name": "stdout",
          "text": [
            "1: z-+.^.\n",
            "2: z-..\n",
            "3: z-.\n",
            "4: z-\n",
            "5: z-\n",
            "6: z-\n",
            "7: z--\n"
          ]
        },
        {
          "output_type": "execute_result",
          "data": {
            "text/plain": [
              "'z--'"
            ],
            "application/vnd.google.colaboratory.intrinsic+json": {
              "type": "string"
            }
          },
          "metadata": {},
          "execution_count": 44
        }
      ]
    },
    {
      "cell_type": "code",
      "source": [
        "solution(\"=.=\")  # \"aaa\""
      ],
      "metadata": {
        "colab": {
          "base_uri": "https://localhost:8080/",
          "height": 160
        },
        "id": "R1_23FtzvDxk",
        "outputId": "f3c81fff-3544-49f5-a596-f096362766a2"
      },
      "execution_count": null,
      "outputs": [
        {
          "output_type": "stream",
          "name": "stdout",
          "text": [
            "1: =.=\n",
            "2: .\n",
            "3: .\n",
            "4: a\n",
            "5: a\n",
            "6: a\n",
            "7: aaa\n"
          ]
        },
        {
          "output_type": "execute_result",
          "data": {
            "text/plain": [
              "'aaa'"
            ],
            "application/vnd.google.colaboratory.intrinsic+json": {
              "type": "string"
            }
          },
          "metadata": {},
          "execution_count": 45
        }
      ]
    },
    {
      "cell_type": "code",
      "source": [
        "solution(\"123_.def\")  # \"123_.def\""
      ],
      "metadata": {
        "colab": {
          "base_uri": "https://localhost:8080/",
          "height": 160
        },
        "id": "qcMlU9znvH7s",
        "outputId": "ba927207-dca9-4d59-8929-a2ca5a7b6aa8"
      },
      "execution_count": null,
      "outputs": [
        {
          "output_type": "stream",
          "name": "stdout",
          "text": [
            "1: 123_.def\n",
            "2: 123_.def\n",
            "3: 123_.def\n",
            "4: 123_.def\n",
            "5: 123_.def\n",
            "6: 123_.def\n",
            "7: 123_.def\n"
          ]
        },
        {
          "output_type": "execute_result",
          "data": {
            "text/plain": [
              "'123_.def'"
            ],
            "application/vnd.google.colaboratory.intrinsic+json": {
              "type": "string"
            }
          },
          "metadata": {},
          "execution_count": 46
        }
      ]
    },
    {
      "cell_type": "code",
      "source": [
        "solution(\"abcdefghijklmn.p\")  # \"abcdefghijklmn\""
      ],
      "metadata": {
        "colab": {
          "base_uri": "https://localhost:8080/",
          "height": 160
        },
        "id": "STGs43jzvKC2",
        "outputId": "f2176549-995d-403f-835d-c4b8bd29522e"
      },
      "execution_count": null,
      "outputs": [
        {
          "output_type": "stream",
          "name": "stdout",
          "text": [
            "1: abcdefghijklmn.p\n",
            "2: abcdefghijklmn.p\n",
            "3: abcdefghijklmn.p\n",
            "4: abcdefghijklmn.p\n",
            "5: abcdefghijklmn.p\n",
            "6: abcdefghijklmn\n",
            "7: abcdefghijklmn\n"
          ]
        },
        {
          "output_type": "execute_result",
          "data": {
            "text/plain": [
              "'abcdefghijklmn'"
            ],
            "application/vnd.google.colaboratory.intrinsic+json": {
              "type": "string"
            }
          },
          "metadata": {},
          "execution_count": 47
        }
      ]
    },
    {
      "cell_type": "markdown",
      "source": [
        "### reference"
      ],
      "metadata": {
        "id": "iKkZiuI7wk7e"
      }
    },
    {
      "cell_type": "code",
      "source": [
        "import re\n",
        "\n",
        "def solution(new_id):\n",
        "    st = new_id\n",
        "    st = st.lower()\n",
        "    st = re.sub('[^a-z0-9\\-_.]', '', st)\n",
        "    st = re.sub('.+', '.', st)  # \\. = 마침표, + => 여러개\n",
        "    print(st)\n",
        "    st = re.sub('^.|.$', '', st)  # ^ = 문자열의 처음, | = 또는, $ = 마지막, [.] = 마침표\n",
        "    print(st)\n",
        "    st = 'a' if len(st) == 0 else st[:15]\n",
        "    st = re.sub('^[.]|[.]$', '', st)\n",
        "    st = st if len(st) > 2 else st + \"\".join([st[-1] for i in range(3-len(st))])\n",
        "    return st"
      ],
      "metadata": {
        "id": "1l_VxKh-beUL"
      },
      "execution_count": null,
      "outputs": []
    },
    {
      "cell_type": "code",
      "source": [
        "solution(\"=.=\")  # \"aaa\""
      ],
      "metadata": {
        "colab": {
          "base_uri": "https://localhost:8080/",
          "height": 71
        },
        "id": "jgdC-rDM1fud",
        "outputId": "c23d3c68-1545-4968-8152-b7291ab64ac7"
      },
      "execution_count": null,
      "outputs": [
        {
          "output_type": "stream",
          "name": "stdout",
          "text": [
            ".\n",
            "\n"
          ]
        },
        {
          "output_type": "execute_result",
          "data": {
            "text/plain": [
              "'aaa'"
            ],
            "application/vnd.google.colaboratory.intrinsic+json": {
              "type": "string"
            }
          },
          "metadata": {},
          "execution_count": 62
        }
      ]
    },
    {
      "cell_type": "code",
      "source": [
        ""
      ],
      "metadata": {
        "id": "XKpyVoi01gEE"
      },
      "execution_count": null,
      "outputs": []
    }
  ]
}