{
  "nbformat": 4,
  "nbformat_minor": 0,
  "metadata": {
    "colab": {
      "name": "programmers_문자열 내 마음대로 정렬하기.ipynb",
      "provenance": [],
      "collapsed_sections": [],
      "authorship_tag": "ABX9TyOwFfycrVYO3axWWyHaRgpc",
      "include_colab_link": true
    },
    "kernelspec": {
      "name": "python3",
      "display_name": "Python 3"
    },
    "language_info": {
      "name": "python"
    }
  },
  "cells": [
    {
      "cell_type": "markdown",
      "metadata": {
        "id": "view-in-github",
        "colab_type": "text"
      },
      "source": [
        "<a href=\"https://colab.research.google.com/github/wisesprout/algorithm-practice/blob/main/programmers_%EB%AC%B8%EC%9E%90%EC%97%B4_%EB%82%B4_%EB%A7%88%EC%9D%8C%EB%8C%80%EB%A1%9C_%EC%A0%95%EB%A0%AC%ED%95%98%EA%B8%B0.ipynb\" target=\"_parent\"><img src=\"https://colab.research.google.com/assets/colab-badge.svg\" alt=\"Open In Colab\"/></a>"
      ]
    },
    {
      "cell_type": "markdown",
      "source": [
        "\n",
        "# 문자열 내 마음대로 정렬하기"
      ],
      "metadata": {
        "id": "j5YOUa2KT6l0"
      }
    },
    {
      "cell_type": "markdown",
      "source": [
        "### my solution"
      ],
      "metadata": {
        "id": "IbzJkoXWT6oC"
      }
    },
    {
      "cell_type": "code",
      "source": [
        "def solution(strings, n):\n",
        "    strings.sort()\n",
        "    answer = sorted(strings, key=lambda x:x[n])\n",
        "\n",
        "    return answer"
      ],
      "metadata": {
        "id": "tZb2avQaUTts"
      },
      "execution_count": null,
      "outputs": []
    },
    {
      "cell_type": "code",
      "source": [
        "solution([\"sun\", \"bed\", \"car\"], 1)  # [\"car\", \"bed\", \"sun\"]"
      ],
      "metadata": {
        "id": "QhtlPW7LUVPj",
        "colab": {
          "base_uri": "https://localhost:8080/"
        },
        "outputId": "f3a41d5d-de5c-470c-8d93-f75332d7d8f0"
      },
      "execution_count": null,
      "outputs": [
        {
          "output_type": "execute_result",
          "data": {
            "text/plain": [
              "['car', 'bed', 'sun']"
            ]
          },
          "metadata": {},
          "execution_count": 7
        }
      ]
    },
    {
      "cell_type": "code",
      "source": [
        "solution([\"abce\", \"abcd\", \"cdx\"], 2)  # [\"abcd\", \"abce\", \"cdx\"]"
      ],
      "metadata": {
        "id": "I1Ogj81AUVIW",
        "colab": {
          "base_uri": "https://localhost:8080/"
        },
        "outputId": "dffafa78-f4f2-47bb-cbb3-b62ac1ac540b"
      },
      "execution_count": null,
      "outputs": [
        {
          "output_type": "execute_result",
          "data": {
            "text/plain": [
              "['abcd', 'abce', 'cdx']"
            ]
          },
          "metadata": {},
          "execution_count": 8
        }
      ]
    },
    {
      "cell_type": "markdown",
      "source": [
        "### reference"
      ],
      "metadata": {
        "id": "IYLVkMIcT6py"
      }
    },
    {
      "cell_type": "markdown",
      "source": [
        "- sort 두번 대신 2차 키 사용하기"
      ],
      "metadata": {
        "id": "h9zzDMHHYkua"
      }
    },
    {
      "cell_type": "code",
      "source": [
        "def solution(strings, n):\n",
        "    answer = sorted(strings, key=lambda x:(x[n], x))\n",
        "\n",
        "    return answer"
      ],
      "metadata": {
        "id": "g5W_PuWlT-Vo"
      },
      "execution_count": null,
      "outputs": []
    },
    {
      "cell_type": "code",
      "source": [
        "solution([\"sun\", \"bed\", \"car\"], 1)  # [\"car\", \"bed\", \"sun\"]"
      ],
      "metadata": {
        "colab": {
          "base_uri": "https://localhost:8080/"
        },
        "id": "_5PZRAxfYwB8",
        "outputId": "4f880383-25c2-46bc-bb7d-11220dd946cf"
      },
      "execution_count": null,
      "outputs": [
        {
          "output_type": "execute_result",
          "data": {
            "text/plain": [
              "['car', 'bed', 'sun']"
            ]
          },
          "metadata": {},
          "execution_count": 10
        }
      ]
    },
    {
      "cell_type": "code",
      "source": [
        "solution([\"abce\", \"abcd\", \"cdx\"], 2)  # [\"abcd\", \"abce\", \"cdx\"]"
      ],
      "metadata": {
        "colab": {
          "base_uri": "https://localhost:8080/"
        },
        "id": "HbeZxbUYYxb6",
        "outputId": "3918e3a7-feba-4f8b-932e-66840051fabe"
      },
      "execution_count": null,
      "outputs": [
        {
          "output_type": "execute_result",
          "data": {
            "text/plain": [
              "['abcd', 'abce', 'cdx']"
            ]
          },
          "metadata": {},
          "execution_count": 11
        }
      ]
    }
  ]
}