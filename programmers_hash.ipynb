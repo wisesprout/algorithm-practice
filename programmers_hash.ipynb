{
  "nbformat": 4,
  "nbformat_minor": 0,
  "metadata": {
    "colab": {
      "name": "programmers_hash.ipynb",
      "provenance": [],
      "authorship_tag": "ABX9TyMPRaqE+y/8SKEgJBbXps61",
      "include_colab_link": true
    },
    "kernelspec": {
      "name": "python3",
      "display_name": "Python 3"
    },
    "language_info": {
      "name": "python"
    }
  },
  "cells": [
    {
      "cell_type": "markdown",
      "metadata": {
        "id": "view-in-github",
        "colab_type": "text"
      },
      "source": [
        "<a href=\"https://colab.research.google.com/github/wisesprout/algorithm-practice/blob/main/programmers_hash.ipynb\" target=\"_parent\"><img src=\"https://colab.research.google.com/assets/colab-badge.svg\" alt=\"Open In Colab\"/></a>"
      ]
    },
    {
      "cell_type": "markdown",
      "source": [
        "# 완주하지 못한 선수"
      ],
      "metadata": {
        "id": "UrUTrIdjoAy8"
      }
    },
    {
      "cell_type": "markdown",
      "source": [
        "### my solution"
      ],
      "metadata": {
        "id": "KOSMhywOgZtg"
      }
    },
    {
      "cell_type": "code",
      "source": [
        "def solution(participant, completion):\n",
        "    part, comp = participant, completion\n",
        "    part.sort()\n",
        "    comp.sort()\n",
        "    for i in range(len(comp)):\n",
        "        if part[i] != comp[i]:\n",
        "            return part[i]\n",
        "    return part[-1]"
      ],
      "metadata": {
        "id": "VE89P0g9qWx1"
      },
      "execution_count": 10,
      "outputs": []
    },
    {
      "cell_type": "code",
      "source": [
        "solution([\"leo\", \"kiki\", \"eden\"], [\"eden\", \"kiki\"])"
      ],
      "metadata": {
        "colab": {
          "base_uri": "https://localhost:8080/",
          "height": 35
        },
        "id": "mT4OoddNeMdC",
        "outputId": "4007284c-2f63-48b6-958c-6a82119d8a55"
      },
      "execution_count": 11,
      "outputs": [
        {
          "output_type": "execute_result",
          "data": {
            "text/plain": [
              "'leo'"
            ],
            "application/vnd.google.colaboratory.intrinsic+json": {
              "type": "string"
            }
          },
          "metadata": {},
          "execution_count": 11
        }
      ]
    },
    {
      "cell_type": "code",
      "source": [
        "solution([\"marina\", \"josipa\", \"nikola\", \"vinko\", \"filipa\"],\t[\"josipa\", \"filipa\", \"marina\", \"nikola\"])"
      ],
      "metadata": {
        "colab": {
          "base_uri": "https://localhost:8080/",
          "height": 35
        },
        "id": "LVyROv1aePZK",
        "outputId": "5c7af4fa-d8da-4f75-f800-a7300720cba4"
      },
      "execution_count": 12,
      "outputs": [
        {
          "output_type": "execute_result",
          "data": {
            "text/plain": [
              "'vinko'"
            ],
            "application/vnd.google.colaboratory.intrinsic+json": {
              "type": "string"
            }
          },
          "metadata": {},
          "execution_count": 12
        }
      ]
    },
    {
      "cell_type": "code",
      "source": [
        "solution([\"mislav\", \"stanko\", \"mislav\", \"ana\"], [\"stanko\", \"ana\", \"mislav\"])"
      ],
      "metadata": {
        "colab": {
          "base_uri": "https://localhost:8080/",
          "height": 35
        },
        "id": "EO3gMh2MeXv4",
        "outputId": "d7109629-7160-4634-9619-790cae2c6896"
      },
      "execution_count": 13,
      "outputs": [
        {
          "output_type": "execute_result",
          "data": {
            "text/plain": [
              "'mislav'"
            ],
            "application/vnd.google.colaboratory.intrinsic+json": {
              "type": "string"
            }
          },
          "metadata": {},
          "execution_count": 13
        }
      ]
    },
    {
      "cell_type": "markdown",
      "source": [
        "### reference code"
      ],
      "metadata": {
        "id": "mu8W82fsg_4V"
      }
    },
    {
      "cell_type": "code",
      "source": [
        "import collections\n",
        "\n",
        "def solution(participant, completion):\n",
        "    # counter 객체 연산\n",
        "    answer = collections.Counter(participant) - collections.Counter(completion)\n",
        "    print(answer)\n",
        "    return list(answer.keys())[0]"
      ],
      "metadata": {
        "id": "siugd5BzgWcX"
      },
      "execution_count": 17,
      "outputs": []
    },
    {
      "cell_type": "code",
      "source": [
        "print(solution([\"leo\", \"kiki\", \"eden\"], [\"eden\", \"kiki\"]))\n",
        "print(solution([\"marina\", \"josipa\", \"nikola\", \"vinko\", \"filipa\"],\t[\"josipa\", \"filipa\", \"marina\", \"nikola\"]))\n",
        "print(solution([\"mislav\", \"stanko\", \"mislav\", \"ana\"], [\"stanko\", \"ana\", \"mislav\"]))"
      ],
      "metadata": {
        "colab": {
          "base_uri": "https://localhost:8080/"
        },
        "id": "aqtJBseTlf2v",
        "outputId": "9f40fc51-9f31-4565-a358-74e7c86d8dea"
      },
      "execution_count": 18,
      "outputs": [
        {
          "output_type": "stream",
          "name": "stdout",
          "text": [
            "Counter({'leo': 1})\n",
            "leo\n",
            "Counter({'vinko': 1})\n",
            "vinko\n",
            "Counter({'mislav': 1})\n",
            "mislav\n"
          ]
        }
      ]
    },
    {
      "cell_type": "code",
      "source": [
        "import collections\n",
        "a = collections.Counter([\"leo\", \"kiki\", \"eden\"])\n",
        "b = collections.Counter([\"eden\", \"kiki\"])\n",
        "print(a)\n",
        "print(b)"
      ],
      "metadata": {
        "colab": {
          "base_uri": "https://localhost:8080/"
        },
        "id": "AcJahthcjuUh",
        "outputId": "c63e4106-c33e-4845-f507-c34ad890bdaf"
      },
      "execution_count": 14,
      "outputs": [
        {
          "output_type": "stream",
          "name": "stdout",
          "text": [
            "Counter({'leo': 1, 'kiki': 1, 'eden': 1})\n",
            "Counter({'eden': 1, 'kiki': 1})\n"
          ]
        }
      ]
    },
    {
      "cell_type": "code",
      "source": [
        "from collections import Counter\n",
        "   \n",
        "# With sequence of items\n",
        "print(Counter(['B','B','A','B','C','A','B',\n",
        "               'B','A','C']))\n",
        "   \n",
        "# with dictionary\n",
        "print(Counter({'A':3, 'B':5, 'C':2}))\n",
        "   \n",
        "# with keyword arguments\n",
        "print(Counter(A=3, B=5, C=2))"
      ],
      "metadata": {
        "colab": {
          "base_uri": "https://localhost:8080/"
        },
        "id": "cyuepIRRj_oC",
        "outputId": "4075a9d4-9ee2-4204-906e-4f8e3a92f6f5"
      },
      "execution_count": 15,
      "outputs": [
        {
          "output_type": "stream",
          "name": "stdout",
          "text": [
            "Counter({'B': 5, 'A': 3, 'C': 2})\n",
            "Counter({'B': 5, 'A': 3, 'C': 2})\n",
            "Counter({'B': 5, 'A': 3, 'C': 2})\n"
          ]
        }
      ]
    },
    {
      "cell_type": "code",
      "source": [
        ""
      ],
      "metadata": {
        "id": "0u2lZYwxkMCv"
      },
      "execution_count": null,
      "outputs": []
    }
  ]
}