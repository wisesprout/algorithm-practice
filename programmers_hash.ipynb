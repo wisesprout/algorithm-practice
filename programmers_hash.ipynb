{
  "nbformat": 4,
  "nbformat_minor": 0,
  "metadata": {
    "colab": {
      "name": "programmers_hash.ipynb",
      "provenance": [],
      "collapsed_sections": [
        "UrUTrIdjoAy8"
      ],
      "authorship_tag": "ABX9TyOiVfq9/tY3cavZqCVfpagH",
      "include_colab_link": true
    },
    "kernelspec": {
      "name": "python3",
      "display_name": "Python 3"
    },
    "language_info": {
      "name": "python"
    }
  },
  "cells": [
    {
      "cell_type": "markdown",
      "metadata": {
        "id": "view-in-github",
        "colab_type": "text"
      },
      "source": [
        "<a href=\"https://colab.research.google.com/github/wisesprout/algorithm-practice/blob/main/programmers_hash.ipynb\" target=\"_parent\"><img src=\"https://colab.research.google.com/assets/colab-badge.svg\" alt=\"Open In Colab\"/></a>"
      ]
    },
    {
      "cell_type": "markdown",
      "source": [
        "# Level 1 완주하지 못한 선수"
      ],
      "metadata": {
        "id": "UrUTrIdjoAy8"
      }
    },
    {
      "cell_type": "markdown",
      "source": [
        "### my solution"
      ],
      "metadata": {
        "id": "KOSMhywOgZtg"
      }
    },
    {
      "cell_type": "code",
      "source": [
        "def solution(participant, completion):\n",
        "    part, comp = participant, completion\n",
        "    part.sort()\n",
        "    comp.sort()\n",
        "    for i in range(len(comp)):\n",
        "        if part[i] != comp[i]:\n",
        "            return part[i]\n",
        "    return part[-1]"
      ],
      "metadata": {
        "id": "VE89P0g9qWx1"
      },
      "execution_count": null,
      "outputs": []
    },
    {
      "cell_type": "code",
      "source": [
        "solution([\"leo\", \"kiki\", \"eden\"], [\"eden\", \"kiki\"])"
      ],
      "metadata": {
        "colab": {
          "base_uri": "https://localhost:8080/",
          "height": 35
        },
        "id": "mT4OoddNeMdC",
        "outputId": "15bd1a10-dcf7-4ec3-fda0-5c1951858b67"
      },
      "execution_count": null,
      "outputs": [
        {
          "output_type": "execute_result",
          "data": {
            "text/plain": [
              "'leo'"
            ],
            "application/vnd.google.colaboratory.intrinsic+json": {
              "type": "string"
            }
          },
          "metadata": {},
          "execution_count": 101
        }
      ]
    },
    {
      "cell_type": "code",
      "source": [
        "solution([\"marina\", \"josipa\", \"nikola\", \"vinko\", \"filipa\"],\t[\"josipa\", \"filipa\", \"marina\", \"nikola\"])"
      ],
      "metadata": {
        "colab": {
          "base_uri": "https://localhost:8080/",
          "height": 35
        },
        "id": "LVyROv1aePZK",
        "outputId": "09d4b68c-a44e-4ee1-8e40-9e7d5eb7b80a"
      },
      "execution_count": null,
      "outputs": [
        {
          "output_type": "execute_result",
          "data": {
            "text/plain": [
              "'vinko'"
            ],
            "application/vnd.google.colaboratory.intrinsic+json": {
              "type": "string"
            }
          },
          "metadata": {},
          "execution_count": 102
        }
      ]
    },
    {
      "cell_type": "code",
      "source": [
        "solution([\"mislav\", \"stanko\", \"mislav\", \"ana\"], [\"stanko\", \"ana\", \"mislav\"])"
      ],
      "metadata": {
        "colab": {
          "base_uri": "https://localhost:8080/",
          "height": 35
        },
        "id": "EO3gMh2MeXv4",
        "outputId": "3b3d5dea-c221-4968-f25e-658d164077fc"
      },
      "execution_count": null,
      "outputs": [
        {
          "output_type": "execute_result",
          "data": {
            "text/plain": [
              "'mislav'"
            ],
            "application/vnd.google.colaboratory.intrinsic+json": {
              "type": "string"
            }
          },
          "metadata": {},
          "execution_count": 103
        }
      ]
    },
    {
      "cell_type": "markdown",
      "source": [
        "### reference code"
      ],
      "metadata": {
        "id": "mu8W82fsg_4V"
      }
    },
    {
      "cell_type": "code",
      "source": [
        "import collections\n",
        "\n",
        "def solution(participant, completion):\n",
        "    # counter 객체 연산\n",
        "    answer = collections.Counter(participant) - collections.Counter(completion)\n",
        "    print(answer)\n",
        "    return list(answer.keys())[0]"
      ],
      "metadata": {
        "id": "siugd5BzgWcX"
      },
      "execution_count": null,
      "outputs": []
    },
    {
      "cell_type": "code",
      "source": [
        "print(solution([\"leo\", \"kiki\", \"eden\"], [\"eden\", \"kiki\"]))\n",
        "print(solution([\"marina\", \"josipa\", \"nikola\", \"vinko\", \"filipa\"],\t[\"josipa\", \"filipa\", \"marina\", \"nikola\"]))\n",
        "print(solution([\"mislav\", \"stanko\", \"mislav\", \"ana\"], [\"stanko\", \"ana\", \"mislav\"]))"
      ],
      "metadata": {
        "colab": {
          "base_uri": "https://localhost:8080/"
        },
        "id": "aqtJBseTlf2v",
        "outputId": "125b9110-82e9-4bc4-a272-6aaf701fa01a"
      },
      "execution_count": null,
      "outputs": [
        {
          "output_type": "stream",
          "name": "stdout",
          "text": [
            "Counter({'leo': 1})\n",
            "leo\n",
            "Counter({'vinko': 1})\n",
            "vinko\n",
            "Counter({'mislav': 1})\n",
            "mislav\n"
          ]
        }
      ]
    },
    {
      "cell_type": "code",
      "source": [
        "import collections\n",
        "a = collections.Counter([\"leo\", \"kiki\", \"eden\"])\n",
        "b = collections.Counter([\"eden\", \"kiki\"])\n",
        "print(a)\n",
        "print(b)"
      ],
      "metadata": {
        "colab": {
          "base_uri": "https://localhost:8080/"
        },
        "id": "AcJahthcjuUh",
        "outputId": "a2b22386-f982-46f2-e138-f6962017adda"
      },
      "execution_count": null,
      "outputs": [
        {
          "output_type": "stream",
          "name": "stdout",
          "text": [
            "Counter({'leo': 1, 'kiki': 1, 'eden': 1})\n",
            "Counter({'eden': 1, 'kiki': 1})\n"
          ]
        }
      ]
    },
    {
      "cell_type": "code",
      "source": [
        "from collections import Counter\n",
        "   \n",
        "# With sequence of items\n",
        "print(Counter(['B','B','A','B','C','A','B',\n",
        "               'B','A','C']))\n",
        "   \n",
        "# with dictionary\n",
        "print(Counter({'A':3, 'B':5, 'C':2}))\n",
        "   \n",
        "# with keyword arguments\n",
        "print(Counter(A=3, B=5, C=2))"
      ],
      "metadata": {
        "colab": {
          "base_uri": "https://localhost:8080/"
        },
        "id": "cyuepIRRj_oC",
        "outputId": "192ad7b8-9e9a-4bcf-c57e-8763744352bb"
      },
      "execution_count": null,
      "outputs": [
        {
          "output_type": "stream",
          "name": "stdout",
          "text": [
            "Counter({'B': 5, 'A': 3, 'C': 2})\n",
            "Counter({'B': 5, 'A': 3, 'C': 2})\n",
            "Counter({'B': 5, 'A': 3, 'C': 2})\n"
          ]
        }
      ]
    },
    {
      "cell_type": "markdown",
      "source": [
        "# Level 2 전화번호 목록"
      ],
      "metadata": {
        "id": "2wN391YgJQQ4"
      }
    },
    {
      "cell_type": "markdown",
      "source": [
        "### my solution"
      ],
      "metadata": {
        "id": "yIwNbAdtLjnV"
      }
    },
    {
      "cell_type": "markdown",
      "source": [
        "* 주의할 테스트 케이스: 제일 짧지 않은 번호가 접두어가 될 때 ex) ['11', '22', '333', '3334']\n",
        "* 효율성 줄이는 방법: for문 한번 사용 -> 번호들 정렬할 때 int 기준으로 안하고 str 기준으로 하면 제일 첫 자리부터 오름차순으로 됨(['12','123','88']), 이때 앞번호랑 뒷번호만 비교하기"
      ],
      "metadata": {
        "id": "Lsc7OzviibNi"
      }
    },
    {
      "cell_type": "code",
      "source": [
        "def solution(phone_book):\n",
        "    # 번호의 str 상태에서 오름차순 정렬\n",
        "    phone_book.sort()\n",
        "    print('phone_book:',phone_book)\n",
        "\n",
        "    answer = True      \n",
        "    for i in range(len(phone_book)):  # 첫 번호부터\n",
        "        if (answer==True) & (phone_book[i] != phone_book[-1]): # i번째 번호가 제일 짧은 번호일 경우\n",
        "            print('기준 번호:',phone_book[i])  # i번째 번호를 접두어 번호로 설정\n",
        "            if phone_book[i+1].startswith(phone_book[i]):\n",
        "                print('비교할 번호:',phone_book[i+1])\n",
        "                answer = False\n",
        "                break\n",
        "    \n",
        "    return answer"
      ],
      "metadata": {
        "id": "C5wLSAFUJSVn"
      },
      "execution_count": null,
      "outputs": []
    },
    {
      "cell_type": "code",
      "source": [
        "solution([\"119\", \"97674223\", \"1195524421\"])"
      ],
      "metadata": {
        "colab": {
          "base_uri": "https://localhost:8080/"
        },
        "id": "mlUHCzrgL9sU",
        "outputId": "eb467566-2059-4363-cb46-8f1220ad48e6"
      },
      "execution_count": null,
      "outputs": [
        {
          "output_type": "stream",
          "name": "stdout",
          "text": [
            "phone_book: ['119', '1195524421', '97674223']\n",
            "기준 번호: 119\n",
            "비교할 번호: 1195524421\n"
          ]
        },
        {
          "output_type": "execute_result",
          "data": {
            "text/plain": [
              "False"
            ]
          },
          "metadata": {},
          "execution_count": 92
        }
      ]
    },
    {
      "cell_type": "code",
      "source": [
        "solution([\"123\",\"456\",\"789\"])"
      ],
      "metadata": {
        "colab": {
          "base_uri": "https://localhost:8080/"
        },
        "id": "JlYSrxAdMB3u",
        "outputId": "ee72a28d-c408-49ee-b8f7-831c7f7206da"
      },
      "execution_count": null,
      "outputs": [
        {
          "output_type": "stream",
          "name": "stdout",
          "text": [
            "phone_book: ['123', '456', '789']\n",
            "기준 번호: 123\n",
            "기준 번호: 456\n"
          ]
        },
        {
          "output_type": "execute_result",
          "data": {
            "text/plain": [
              "True"
            ]
          },
          "metadata": {},
          "execution_count": 93
        }
      ]
    },
    {
      "cell_type": "code",
      "source": [
        "solution([\"12\",\"123\",\"1235\",\"567\",\"88\"])"
      ],
      "metadata": {
        "colab": {
          "base_uri": "https://localhost:8080/"
        },
        "id": "VZgGfAmyMFdr",
        "outputId": "6a3ca020-a5db-41d6-e0a8-8310c6775e4c"
      },
      "execution_count": null,
      "outputs": [
        {
          "output_type": "stream",
          "name": "stdout",
          "text": [
            "phone_book: ['12', '123', '1235', '567', '88']\n",
            "기준 번호: 12\n",
            "비교할 번호: 123\n"
          ]
        },
        {
          "output_type": "execute_result",
          "data": {
            "text/plain": [
              "False"
            ]
          },
          "metadata": {},
          "execution_count": 94
        }
      ]
    },
    {
      "cell_type": "markdown",
      "source": [
        "### reference"
      ],
      "metadata": {
        "id": "jLTl8e1HmLMS"
      }
    },
    {
      "cell_type": "code",
      "source": [
        "def solution(phoneBook):\n",
        "    phoneBook = sorted(phoneBook)\n",
        "\n",
        "    for p1, p2 in zip(phoneBook, phoneBook[1:]):\n",
        "        print(list(zip(phoneBook, phoneBook[1:])))\n",
        "        if p2.startswith(p1):\n",
        "            return False\n",
        "    return True"
      ],
      "metadata": {
        "id": "u81M3GRumOqr"
      },
      "execution_count": null,
      "outputs": []
    },
    {
      "cell_type": "code",
      "source": [
        "solution([\"12\",\"123\",\"1235\",\"567\",\"88\"])"
      ],
      "metadata": {
        "colab": {
          "base_uri": "https://localhost:8080/"
        },
        "id": "8DV2ak6dnHVT",
        "outputId": "00ea1007-5427-4555-d1d7-99c9b32147c8"
      },
      "execution_count": null,
      "outputs": [
        {
          "output_type": "stream",
          "name": "stdout",
          "text": [
            "[('12', '123'), ('123', '1235'), ('1235', '567'), ('567', '88')]\n"
          ]
        },
        {
          "output_type": "execute_result",
          "data": {
            "text/plain": [
              "False"
            ]
          },
          "metadata": {},
          "execution_count": 99
        }
      ]
    },
    {
      "cell_type": "markdown",
      "source": [
        "* hash로 푸는 방법"
      ],
      "metadata": {
        "id": "JKUa6VSEnpeB"
      }
    },
    {
      "cell_type": "code",
      "source": [
        "def solution(phone_book):\n",
        "    answer = True\n",
        "    hash_map = {}\n",
        "    for phone_number in phone_book:\n",
        "        hash_map[phone_number] = 1\n",
        "    for phone_number in phone_book:\n",
        "        temp = \"\"\n",
        "        for number in phone_number:\n",
        "            temp += number\n",
        "            if temp in hash_map and temp != phone_number:\n",
        "                answer = False\n",
        "    return answer"
      ],
      "metadata": {
        "id": "i_HIG9Q3nLgi"
      },
      "execution_count": null,
      "outputs": []
    }
  ]
}