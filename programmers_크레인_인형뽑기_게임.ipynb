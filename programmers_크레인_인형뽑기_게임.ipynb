{
  "nbformat": 4,
  "nbformat_minor": 0,
  "metadata": {
    "colab": {
      "name": "programmers_크레인 인형뽑기 게임.ipynb",
      "provenance": [],
      "collapsed_sections": [],
      "authorship_tag": "ABX9TyMEEMWPpY3VYpq8LoEHZL7X",
      "include_colab_link": true
    },
    "kernelspec": {
      "name": "python3",
      "display_name": "Python 3"
    },
    "language_info": {
      "name": "python"
    }
  },
  "cells": [
    {
      "cell_type": "markdown",
      "metadata": {
        "id": "view-in-github",
        "colab_type": "text"
      },
      "source": [
        "<a href=\"https://colab.research.google.com/github/wisesprout/algorithm-practice/blob/main/programmers_%ED%81%AC%EB%A0%88%EC%9D%B8_%EC%9D%B8%ED%98%95%EB%BD%91%EA%B8%B0_%EA%B2%8C%EC%9E%84.ipynb\" target=\"_parent\"><img src=\"https://colab.research.google.com/assets/colab-badge.svg\" alt=\"Open In Colab\"/></a>"
      ]
    },
    {
      "cell_type": "markdown",
      "source": [
        "# 크레인 인형뽑기 게임"
      ],
      "metadata": {
        "id": "XFySf7zejBNr"
      }
    },
    {
      "cell_type": "markdown",
      "source": [
        "### my solution"
      ],
      "metadata": {
        "id": "SfzJIMwXjEA0"
      }
    },
    {
      "cell_type": "code",
      "execution_count": null,
      "metadata": {
        "id": "kweo5sLYi6BK"
      },
      "outputs": [],
      "source": [
        "def solution(board, moves):\n",
        "    basket = []  # 바구니\n",
        "    answer = 0  # 터트린 인형 갯수\n",
        "    for m in moves:  # 크레인 작동 위치에\n",
        "        print('m:',m)\n",
        "        for i in range(len(board)):  # 맨 위 좌표부터 인형 있는지 확인\n",
        "            if board[i][m-1] != 0:  # 인형이 있으면\n",
        "                print('좌표:', i, m-1)\n",
        "                board[i].insert(m,0)  # 뺄 인형 뒷자리에 0 삽입\n",
        "                basket.append(board[i].pop(m-1))  # 인형을 pop해서 바구니에 추가\n",
        "                print('basket:',basket)\n",
        "                try:\n",
        "                    if (len(basket) > 1) & (basket[-1]==basket[-2]):  # 바구니에 인형이 2개 이상 있고 & 맨 위 인형 두개가 같으면\n",
        "                        basket = basket[:-2]  # 인형 두개 터트리기\n",
        "                        answer += 2  # 터트려진 인형 갯수 더하기\n",
        "                except:\n",
        "                    break\n",
        "                break\n",
        "    return answer"
      ]
    },
    {
      "cell_type": "code",
      "source": [
        "solution([[0,0,0,0,0],[0,0,1,0,3],[0,2,5,0,1],[4,2,4,4,2],[3,5,1,3,1]], [1,5,3,5,1,2,1,4])  # 4"
      ],
      "metadata": {
        "colab": {
          "base_uri": "https://localhost:8080/"
        },
        "id": "ZaJ77MShjFoW",
        "outputId": "2faf1eb6-aa06-408f-f41f-a7dc4e16def3"
      },
      "execution_count": null,
      "outputs": [
        {
          "output_type": "stream",
          "name": "stdout",
          "text": [
            "m: 1\n",
            "좌표: 3 0\n",
            "basket: [4]\n",
            "m: 5\n",
            "좌표: 1 4\n",
            "basket: [4, 3]\n",
            "m: 3\n",
            "좌표: 1 2\n",
            "basket: [4, 3, 1]\n",
            "m: 5\n",
            "좌표: 2 4\n",
            "basket: [4, 3, 1, 1]\n",
            "m: 1\n",
            "좌표: 4 0\n",
            "basket: [4, 3, 3]\n",
            "m: 2\n",
            "좌표: 2 1\n",
            "basket: [4, 2]\n",
            "m: 1\n",
            "m: 4\n",
            "좌표: 3 3\n",
            "basket: [4, 2, 4]\n"
          ]
        },
        {
          "output_type": "execute_result",
          "data": {
            "text/plain": [
              "4"
            ]
          },
          "metadata": {},
          "execution_count": 34
        }
      ]
    },
    {
      "cell_type": "markdown",
      "source": [
        "### reference X"
      ],
      "metadata": {
        "id": "gwJbtn_wjF8S"
      }
    },
    {
      "cell_type": "code",
      "source": [
        ""
      ],
      "metadata": {
        "id": "E223KEx2tXnw"
      },
      "execution_count": null,
      "outputs": []
    }
  ]
}