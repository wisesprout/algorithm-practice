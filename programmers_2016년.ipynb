{
  "nbformat": 4,
  "nbformat_minor": 0,
  "metadata": {
    "colab": {
      "name": "programmers_2016년.ipynb",
      "provenance": [],
      "collapsed_sections": [],
      "authorship_tag": "ABX9TyPNLRTJBNMANZwQJYkdBSvT",
      "include_colab_link": true
    },
    "kernelspec": {
      "name": "python3",
      "display_name": "Python 3"
    },
    "language_info": {
      "name": "python"
    }
  },
  "cells": [
    {
      "cell_type": "markdown",
      "metadata": {
        "id": "view-in-github",
        "colab_type": "text"
      },
      "source": [
        "<a href=\"https://colab.research.google.com/github/wisesprout/algorithm-practice/blob/main/programmers_2016%EB%85%84.ipynb\" target=\"_parent\"><img src=\"https://colab.research.google.com/assets/colab-badge.svg\" alt=\"Open In Colab\"/></a>"
      ]
    },
    {
      "cell_type": "markdown",
      "source": [
        "# 2016년"
      ],
      "metadata": {
        "id": "BfLP-AXyKL5M"
      }
    },
    {
      "cell_type": "markdown",
      "source": [
        "### my solution"
      ],
      "metadata": {
        "id": "YnpTBkNtKIsQ"
      }
    },
    {
      "cell_type": "code",
      "execution_count": null,
      "metadata": {
        "id": "aln6GZWzmv3r"
      },
      "outputs": [],
      "source": [
        "def solution(a, b):\n",
        "    # 2016/1/1 = Friday\n",
        "    # 2016/a/b = ?\n",
        "    days = ['FRI', 'SAT', 'SUN', 'MON', 'TUE', 'WED', 'THU']\n",
        "    month = [31,29,31,30,31,30,31,31,30,31,30,31]\n",
        "    answer = days[(sum(month[:a-1])+b)%7 -1]\n",
        "\n",
        "    return answer"
      ]
    },
    {
      "cell_type": "code",
      "source": [
        "solution(5,24)"
      ],
      "metadata": {
        "colab": {
          "base_uri": "https://localhost:8080/",
          "height": 35
        },
        "id": "xe8O5oq7oGUx",
        "outputId": "88aff3c2-1269-47e9-b6fc-7facfa2cdc31"
      },
      "execution_count": null,
      "outputs": [
        {
          "output_type": "execute_result",
          "data": {
            "text/plain": [
              "'TUE'"
            ],
            "application/vnd.google.colaboratory.intrinsic+json": {
              "type": "string"
            }
          },
          "metadata": {},
          "execution_count": 22
        }
      ]
    },
    {
      "cell_type": "markdown",
      "source": [
        "### reference"
      ],
      "metadata": {
        "id": "CvB2x61wr8Jp"
      }
    },
    {
      "cell_type": "code",
      "source": [
        "# list 요소들을 더할때 for 말고 sum() 활용\n",
        "# 1) for 활용\n",
        "for i in range(a-1):\n",
        "        total += month[i]\n",
        "# 2) sum() 활용\n",
        "answer = days[(sum(month[:a-1])+b)%7 -1]"
      ],
      "metadata": {
        "id": "D1_UNLWGoH88"
      },
      "execution_count": null,
      "outputs": []
    }
  ]
}