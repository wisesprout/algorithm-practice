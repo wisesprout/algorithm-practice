{
  "nbformat": 4,
  "nbformat_minor": 0,
  "metadata": {
    "colab": {
      "name": "programmers_heap.ipynb",
      "provenance": [],
      "collapsed_sections": [],
      "authorship_tag": "ABX9TyMGkjCtTVj1VxbnXwNcrg1g",
      "include_colab_link": true
    },
    "kernelspec": {
      "name": "python3",
      "display_name": "Python 3"
    },
    "language_info": {
      "name": "python"
    }
  },
  "cells": [
    {
      "cell_type": "markdown",
      "metadata": {
        "id": "view-in-github",
        "colab_type": "text"
      },
      "source": [
        "<a href=\"https://colab.research.google.com/github/wisesprout/algorithm-practice/blob/main/programmers_heap.ipynb\" target=\"_parent\"><img src=\"https://colab.research.google.com/assets/colab-badge.svg\" alt=\"Open In Colab\"/></a>"
      ]
    },
    {
      "cell_type": "markdown",
      "source": [
        "# Level 2 더 맵게"
      ],
      "metadata": {
        "id": "CZ_gjfo4xBz0"
      }
    },
    {
      "cell_type": "markdown",
      "source": [
        "### my solution(효율성 부족)"
      ],
      "metadata": {
        "id": "LYYwTCyoxGrK"
      }
    },
    {
      "cell_type": "code",
      "execution_count": null,
      "metadata": {
        "id": "lRtcxUKyw-pd"
      },
      "outputs": [],
      "source": [
        "def solution(scoville, K):\n",
        "    '''\n",
        "    scoville = leo가 가진 음식의 스코빌 지수가 담긴 배열\n",
        "    K = 원하는 스코빌 지수\n",
        "    answer = 모든 음식의 스코빌 지수를 K 이상으로 만들기 위해 섞어야 하는 최소 횟수\n",
        "    '''\n",
        "    # 1. scoville 오름차순 정렬\n",
        "    # 2. scoville[0] + scoville[1]*2 맨 뒤 삽입\n",
        "    # 3. [0], [1] 삭제\n",
        "    # 4. 모든 요소 >= K 일때까지 1~3 반복\n",
        "    answer = 0\n",
        "    for i in range(len(scoville)):\n",
        "        scoville.sort()  # 오름차순 정렬\n",
        "        print('최소:',scoville[0])\n",
        "        #if scoville[0]>K:  # 최소 스코빌이 이미 K보다 큰 경우\n",
        "        #    break\n",
        "        if (scoville[0]<K) & (len(scoville)!=1):  # 최소 스코빌이 K보다 작고 스코빌 길이가 1이 아닐 때\n",
        "            scoville.append(scoville[0] + scoville[1]*2)  # 새 음식 삽입\n",
        "            scoville=scoville[2:]  # 섞은 두 음식 삭제\n",
        "            answer += 1\n",
        "            print('새 스코빌:',scoville)\n",
        "        elif len(scoville)==1:  # 스코빌 길이가 1일 때\n",
        "            return -1\n",
        "        else:\n",
        "            break      \n",
        "    return answer"
      ]
    },
    {
      "cell_type": "code",
      "source": [
        "solution([1,2,3,9,10,12], 7)  # 2"
      ],
      "metadata": {
        "colab": {
          "base_uri": "https://localhost:8080/"
        },
        "id": "IlpJHEqpzn9b",
        "outputId": "de8d114d-cc9a-4ae9-869c-531a272db454"
      },
      "execution_count": null,
      "outputs": [
        {
          "output_type": "stream",
          "name": "stdout",
          "text": [
            "최소: 1\n",
            "새 스코빌: [3, 9, 10, 12, 5]\n",
            "최소: 3\n",
            "새 스코빌: [9, 10, 12, 13]\n",
            "최소: 9\n"
          ]
        },
        {
          "output_type": "execute_result",
          "data": {
            "text/plain": [
              "2"
            ]
          },
          "metadata": {},
          "execution_count": 26
        }
      ]
    },
    {
      "cell_type": "code",
      "source": [
        "# 스코빌을 다 더해도 k가 안넘는 경우 -1 반환\n",
        "solution([1,2],7)  # -1"
      ],
      "metadata": {
        "colab": {
          "base_uri": "https://localhost:8080/"
        },
        "id": "vd-Ppaqp6OD0",
        "outputId": "8c877979-8a93-4814-a1a6-90ca400c2d73"
      },
      "execution_count": null,
      "outputs": [
        {
          "output_type": "stream",
          "name": "stdout",
          "text": [
            "최소: 1\n",
            "새 스코빌: [5]\n",
            "최소: 5\n"
          ]
        },
        {
          "output_type": "execute_result",
          "data": {
            "text/plain": [
              "-1"
            ]
          },
          "metadata": {},
          "execution_count": 27
        }
      ]
    },
    {
      "cell_type": "markdown",
      "source": [
        "### reference"
      ],
      "metadata": {
        "id": "aOVGNYK3VWo9"
      }
    },
    {
      "cell_type": "code",
      "source": [
        "from heapq import heapify, heappush, heappop\n",
        "def solution(scoville, K):\n",
        "    heapify(scoville)\n",
        "    for i in range(1000000):\n",
        "        try:\n",
        "            heappush(scoville, heappop(scoville)+(heappop(scoville)*2))\n",
        "            if scoville[0] >= K: return i+1\n",
        "        except:\n",
        "            return -1"
      ],
      "metadata": {
        "id": "530PWlIzVWI9"
      },
      "execution_count": null,
      "outputs": []
    }
  ]
}