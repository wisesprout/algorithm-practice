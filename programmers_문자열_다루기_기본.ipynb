{
  "nbformat": 4,
  "nbformat_minor": 0,
  "metadata": {
    "colab": {
      "name": "programmers_문자열 다루기 기본.ipynb",
      "provenance": [],
      "collapsed_sections": [],
      "authorship_tag": "ABX9TyOcrQhIcHI+mP4L7SLH3fki",
      "include_colab_link": true
    },
    "kernelspec": {
      "name": "python3",
      "display_name": "Python 3"
    },
    "language_info": {
      "name": "python"
    }
  },
  "cells": [
    {
      "cell_type": "markdown",
      "metadata": {
        "id": "view-in-github",
        "colab_type": "text"
      },
      "source": [
        "<a href=\"https://colab.research.google.com/github/wisesprout/algorithm-practice/blob/main/programmers_%EB%AC%B8%EC%9E%90%EC%97%B4_%EB%8B%A4%EB%A3%A8%EA%B8%B0_%EA%B8%B0%EB%B3%B8.ipynb\" target=\"_parent\"><img src=\"https://colab.research.google.com/assets/colab-badge.svg\" alt=\"Open In Colab\"/></a>"
      ]
    },
    {
      "cell_type": "markdown",
      "source": [
        "# 문자열 다루기 기본"
      ],
      "metadata": {
        "id": "1mGNwBtSLQ7G"
      }
    },
    {
      "cell_type": "markdown",
      "source": [
        "### my solution"
      ],
      "metadata": {
        "id": "ftfUlCNoLQ9q"
      }
    },
    {
      "cell_type": "code",
      "execution_count": null,
      "metadata": {
        "id": "TZEVJi4kLOqH"
      },
      "outputs": [],
      "source": [
        "def solution(s):\n",
        "    answer = True if not any(c.isalpha() for c in s) and (len(s)==4 or len(s)==6) else False\n",
        "    return answer"
      ]
    },
    {
      "cell_type": "code",
      "source": [
        "solution('a234')  # false"
      ],
      "metadata": {
        "colab": {
          "base_uri": "https://localhost:8080/"
        },
        "id": "6cvXpyI0Ly5z",
        "outputId": "703ef1a8-4c18-4ac9-edd2-9d89dcda6ef6"
      },
      "execution_count": null,
      "outputs": [
        {
          "output_type": "execute_result",
          "data": {
            "text/plain": [
              "False"
            ]
          },
          "metadata": {},
          "execution_count": 17
        }
      ]
    },
    {
      "cell_type": "code",
      "source": [
        "solution('1234')  # true"
      ],
      "metadata": {
        "colab": {
          "base_uri": "https://localhost:8080/"
        },
        "id": "0XIHMPLtLyly",
        "outputId": "953737e8-26dc-4be7-f5bf-98fdc0d9efbf"
      },
      "execution_count": null,
      "outputs": [
        {
          "output_type": "execute_result",
          "data": {
            "text/plain": [
              "True"
            ]
          },
          "metadata": {},
          "execution_count": 18
        }
      ]
    },
    {
      "cell_type": "markdown",
      "source": [
        "### reference"
      ],
      "metadata": {
        "id": "ZtTt1Y58LRAB"
      }
    },
    {
      "cell_type": "markdown",
      "source": [
        "- .isdigit(): string이 숫자로 구성 되었는지 확인\n",
        "- 길이가 4, 6 중에 있는지 확인"
      ],
      "metadata": {
        "id": "qdZC2VhyPnGA"
      }
    },
    {
      "cell_type": "code",
      "source": [
        "return s.isdigit() and len(s) in (4, 6)"
      ],
      "metadata": {
        "id": "fZ784Xt3LtUg"
      },
      "execution_count": null,
      "outputs": []
    }
  ]
}