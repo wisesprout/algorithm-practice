{
  "nbformat": 4,
  "nbformat_minor": 0,
  "metadata": {
    "colab": {
      "name": "programmers_최소직사각형.ipynb",
      "provenance": [],
      "collapsed_sections": [],
      "authorship_tag": "ABX9TyN3bkjy9mtysBg9NsuchEWL",
      "include_colab_link": true
    },
    "kernelspec": {
      "name": "python3",
      "display_name": "Python 3"
    },
    "language_info": {
      "name": "python"
    }
  },
  "cells": [
    {
      "cell_type": "markdown",
      "metadata": {
        "id": "view-in-github",
        "colab_type": "text"
      },
      "source": [
        "<a href=\"https://colab.research.google.com/github/wisesprout/algorithm-practice/blob/main/programmers_%EC%B5%9C%EC%86%8C%EC%A7%81%EC%82%AC%EA%B0%81%ED%98%95.ipynb\" target=\"_parent\"><img src=\"https://colab.research.google.com/assets/colab-badge.svg\" alt=\"Open In Colab\"/></a>"
      ]
    },
    {
      "cell_type": "markdown",
      "source": [
        "# 최소직사각형"
      ],
      "metadata": {
        "id": "AHOr6Qh2mlPG"
      }
    },
    {
      "cell_type": "markdown",
      "source": [
        "### my solution"
      ],
      "metadata": {
        "id": "zM68t-5CmnXt"
      }
    },
    {
      "cell_type": "code",
      "execution_count": null,
      "metadata": {
        "id": "k0oavvnjmgSY"
      },
      "outputs": [],
      "source": [
        "def solution(sizes):\n",
        "    max_width, max_height = 0, 0\n",
        "    for s in sizes:\n",
        "        if s[0] > s[1]:\n",
        "            s.sort()\n",
        "        if s[0] > max_width:\n",
        "            max_width = s[0]\n",
        "        if s[1] > max_height:\n",
        "            max_height = s[1]\n",
        "    return max_width * max_height"
      ]
    },
    {
      "cell_type": "code",
      "source": [
        "solution([[60, 50], [30, 70], [60, 30], [80, 40]])  # 4000"
      ],
      "metadata": {
        "colab": {
          "base_uri": "https://localhost:8080/"
        },
        "id": "MW8flswJpla4",
        "outputId": "d320f9b2-e23a-4929-c734-ebfba8a5af3f"
      },
      "execution_count": null,
      "outputs": [
        {
          "output_type": "execute_result",
          "data": {
            "text/plain": [
              "4000"
            ]
          },
          "metadata": {},
          "execution_count": 6
        }
      ]
    },
    {
      "cell_type": "code",
      "source": [
        "solution([[10, 7], [12, 3], [8, 15], [14, 7], [5, 15]])  # 120"
      ],
      "metadata": {
        "colab": {
          "base_uri": "https://localhost:8080/"
        },
        "id": "Ln7CzBYLppca",
        "outputId": "fb05783a-5c04-447f-f01e-050a36cf743f"
      },
      "execution_count": null,
      "outputs": [
        {
          "output_type": "execute_result",
          "data": {
            "text/plain": [
              "120"
            ]
          },
          "metadata": {},
          "execution_count": 7
        }
      ]
    },
    {
      "cell_type": "code",
      "source": [
        "solution([[14, 4], [19, 6], [6, 16], [18, 7], [7, 11]])  # 133"
      ],
      "metadata": {
        "colab": {
          "base_uri": "https://localhost:8080/"
        },
        "id": "cunFrV1zptT6",
        "outputId": "3e9c2e6d-0597-4f15-f746-d2a9db874836"
      },
      "execution_count": null,
      "outputs": [
        {
          "output_type": "execute_result",
          "data": {
            "text/plain": [
              "133"
            ]
          },
          "metadata": {},
          "execution_count": 8
        }
      ]
    },
    {
      "cell_type": "markdown",
      "source": [
        "### reference"
      ],
      "metadata": {
        "id": "QEpDij8qmpfW"
      }
    },
    {
      "cell_type": "code",
      "source": [
        "def solution(sizes):\n",
        "    return max(max(x) for x in sizes) * max(min(x) for x in sizes)"
      ],
      "metadata": {
        "id": "tnxlecpAmqnu"
      },
      "execution_count": null,
      "outputs": []
    }
  ]
}