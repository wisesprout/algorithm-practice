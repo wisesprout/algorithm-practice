{
  "nbformat": 4,
  "nbformat_minor": 0,
  "metadata": {
    "colab": {
      "name": "programmers_이상한 문자 만들기.ipynb",
      "provenance": [],
      "collapsed_sections": [],
      "authorship_tag": "ABX9TyOj7J0iauPr1Y2yAMQcas1q",
      "include_colab_link": true
    },
    "kernelspec": {
      "name": "python3",
      "display_name": "Python 3"
    },
    "language_info": {
      "name": "python"
    }
  },
  "cells": [
    {
      "cell_type": "markdown",
      "metadata": {
        "id": "view-in-github",
        "colab_type": "text"
      },
      "source": [
        "<a href=\"https://colab.research.google.com/github/wisesprout/algorithm-practice/blob/main/programmers_%EC%9D%B4%EC%83%81%ED%95%9C_%EB%AC%B8%EC%9E%90_%EB%A7%8C%EB%93%A4%EA%B8%B0.ipynb\" target=\"_parent\"><img src=\"https://colab.research.google.com/assets/colab-badge.svg\" alt=\"Open In Colab\"/></a>"
      ]
    },
    {
      "cell_type": "markdown",
      "source": [
        "# 이상한 문자 만들기"
      ],
      "metadata": {
        "id": "YNiNrR1PT4Vw"
      }
    },
    {
      "cell_type": "markdown",
      "source": [
        "### my solution"
      ],
      "metadata": {
        "id": "6xg6JKNCT4Zb"
      }
    },
    {
      "cell_type": "code",
      "execution_count": 11,
      "metadata": {
        "id": "5T-FMi1OT1gC"
      },
      "outputs": [],
      "source": [
        "def solution(s):\n",
        "    answer = ''\n",
        "\n",
        "    count = 0\n",
        "    for c in s:\n",
        "        if c == ' ':\n",
        "            count = 0\n",
        "            answer += c\n",
        "        elif count % 2 == 1:\n",
        "            answer += c.lower()\n",
        "            count += 1\n",
        "        else:\n",
        "            answer += c.upper()\n",
        "            count += 1\n",
        "    return answer"
      ]
    },
    {
      "cell_type": "code",
      "source": [
        "solution('try hello world')  # 'TrY HeLlO WoRlD'"
      ],
      "metadata": {
        "colab": {
          "base_uri": "https://localhost:8080/",
          "height": 35
        },
        "id": "sWikY0bVVAGp",
        "outputId": "2fa8e6c3-ba78-4fd2-8d45-772f858db6a6"
      },
      "execution_count": 12,
      "outputs": [
        {
          "output_type": "execute_result",
          "data": {
            "text/plain": [
              "'TrY HeLlO WoRlD'"
            ],
            "application/vnd.google.colaboratory.intrinsic+json": {
              "type": "string"
            }
          },
          "metadata": {},
          "execution_count": 12
        }
      ]
    },
    {
      "cell_type": "markdown",
      "source": [
        "### reference X"
      ],
      "metadata": {
        "id": "Gr6wXKqUT4cC"
      }
    }
  ]
}