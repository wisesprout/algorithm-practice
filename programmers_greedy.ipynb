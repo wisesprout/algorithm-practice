{
  "nbformat": 4,
  "nbformat_minor": 0,
  "metadata": {
    "colab": {
      "name": "programmers_greedy.ipynb",
      "provenance": [],
      "collapsed_sections": [],
      "authorship_tag": "ABX9TyOnZJbtAviUesWGre/oM7Zp",
      "include_colab_link": true
    },
    "kernelspec": {
      "name": "python3",
      "display_name": "Python 3"
    },
    "language_info": {
      "name": "python"
    }
  },
  "cells": [
    {
      "cell_type": "markdown",
      "metadata": {
        "id": "view-in-github",
        "colab_type": "text"
      },
      "source": [
        "<a href=\"https://colab.research.google.com/github/wisesprout/algorithm-practice/blob/main/programmers_greedy.ipynb\" target=\"_parent\"><img src=\"https://colab.research.google.com/assets/colab-badge.svg\" alt=\"Open In Colab\"/></a>"
      ]
    },
    {
      "cell_type": "markdown",
      "source": [
        "# Level 1 체육복"
      ],
      "metadata": {
        "id": "OIWKnsOo7tr7"
      }
    },
    {
      "cell_type": "markdown",
      "source": [
        "### my solution"
      ],
      "metadata": {
        "id": "ZtlwpZnj-JOJ"
      }
    },
    {
      "cell_type": "code",
      "source": [
        "def solution(n, lost, reserve):\n",
        "    lost.sort()\n",
        "    reserve.sort()\n",
        "    \n",
        "    for l in lost:\n",
        "        if l in reserve:\n",
        "            reserve.remove(l)\n",
        "            print(l,'제거')\n",
        "        elif l-1 in reserve:  # 학생의 앞 번호가 여분 리스트에 있으면\n",
        "            reserve.remove(l-1)  # 여분 리스트에서 앞 번호 삭제\n",
        "            print(l,'제거')\n",
        "        elif l+1 in reserve:  # 학생의 뒷 번호가 여분 리스트에 있으면\n",
        "            if l+1 in lost:  # 뒷번호가 잃어버린 리스트에도 있으면\n",
        "                n-=1  # 학생 참여 불가\n",
        "            else:  # 뒷번호가 잃어버린 리스트에 없으면\n",
        "                reserve.remove(l+1)  # 여분 리스트에서 뒷 번호 삭제\n",
        "                print(l,'제거')\n",
        "        else:  # 학생의 본인/앞/뒷번호가 여분 리스트에 없으면\n",
        "            n -= 1  # 수업 가능한 학생 수 -1\n",
        "\n",
        "            \n",
        "    return n"
      ],
      "metadata": {
        "id": "9YxAs6gYBbgm"
      },
      "execution_count": null,
      "outputs": []
    },
    {
      "cell_type": "code",
      "source": [
        "solution(5, [1,2,3,4], [1,3,5])"
      ],
      "metadata": {
        "colab": {
          "base_uri": "https://localhost:8080/"
        },
        "id": "BQuEXm-mVMQe",
        "outputId": "ce9a9e22-8ab2-4cfb-8e24-494ad60c119b"
      },
      "execution_count": null,
      "outputs": [
        {
          "output_type": "stream",
          "name": "stdout",
          "text": [
            "1 제거\n",
            "3 제거\n",
            "4 제거\n"
          ]
        },
        {
          "output_type": "execute_result",
          "data": {
            "text/plain": [
              "4"
            ]
          },
          "metadata": {},
          "execution_count": 59
        }
      ]
    },
    {
      "cell_type": "code",
      "source": [
        "solution(5,[2,4],[3])"
      ],
      "metadata": {
        "colab": {
          "base_uri": "https://localhost:8080/"
        },
        "id": "BwXVmaS_csaY",
        "outputId": "4cc2f1fe-6cc2-4491-9bb7-84b70e725ee3"
      },
      "execution_count": null,
      "outputs": [
        {
          "output_type": "stream",
          "name": "stdout",
          "text": [
            "2 제거\n"
          ]
        },
        {
          "output_type": "execute_result",
          "data": {
            "text/plain": [
              "4"
            ]
          },
          "metadata": {},
          "execution_count": 60
        }
      ]
    },
    {
      "cell_type": "code",
      "source": [
        "solution(3,[3],[1])"
      ],
      "metadata": {
        "colab": {
          "base_uri": "https://localhost:8080/"
        },
        "id": "58FM7cPccssV",
        "outputId": "c217b3ca-60b4-4e7f-d6b9-b5c43dc5a1ee"
      },
      "execution_count": null,
      "outputs": [
        {
          "output_type": "execute_result",
          "data": {
            "text/plain": [
              "2"
            ]
          },
          "metadata": {},
          "execution_count": 61
        }
      ]
    },
    {
      "cell_type": "code",
      "source": [
        ""
      ],
      "metadata": {
        "id": "DZwv90F7cuu9"
      },
      "execution_count": null,
      "outputs": []
    }
  ]
}