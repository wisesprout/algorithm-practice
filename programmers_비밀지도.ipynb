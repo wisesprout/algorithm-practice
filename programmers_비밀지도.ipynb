{
  "nbformat": 4,
  "nbformat_minor": 0,
  "metadata": {
    "colab": {
      "name": "programmers_비밀지도.ipynb",
      "provenance": [],
      "collapsed_sections": [],
      "authorship_tag": "ABX9TyNE1/m7/LSHEqRKKynMJUrr",
      "include_colab_link": true
    },
    "kernelspec": {
      "name": "python3",
      "display_name": "Python 3"
    },
    "language_info": {
      "name": "python"
    }
  },
  "cells": [
    {
      "cell_type": "markdown",
      "metadata": {
        "id": "view-in-github",
        "colab_type": "text"
      },
      "source": [
        "<a href=\"https://colab.research.google.com/github/wisesprout/algorithm-practice/blob/main/programmers_%EB%B9%84%EB%B0%80%EC%A7%80%EB%8F%84.ipynb\" target=\"_parent\"><img src=\"https://colab.research.google.com/assets/colab-badge.svg\" alt=\"Open In Colab\"/></a>"
      ]
    },
    {
      "cell_type": "markdown",
      "source": [
        "# 비밀지도"
      ],
      "metadata": {
        "id": "YZRtsEjdM3vS"
      }
    },
    {
      "cell_type": "markdown",
      "source": [
        "### my solution"
      ],
      "metadata": {
        "id": "lcqM2I3JM31-"
      }
    },
    {
      "cell_type": "code",
      "source": [
        "def solution(n, arr1, arr2):\n",
        "    bi_arr1=[]\n",
        "    bi_arr2=[]\n",
        "    map = []\n",
        "\n",
        "    for i in range(len(arr1)):\n",
        "\n",
        "        # 10진수->2진수\n",
        "        arr1[i] = bin(arr1[i]).replace('0b','')\n",
        "        while len(arr1[i]) != n:\n",
        "            arr1[i] = '0'+arr1[i]\n",
        "        bi_arr1.append(arr1[i])\n",
        "\n",
        "        arr2[i] = bin(arr2[i]).replace('0b','')\n",
        "        while len(arr2[i]) != n:\n",
        "            arr2[i] = '0'+arr2[i]\n",
        "        bi_arr2.append(arr2[i])\n",
        "\n",
        "        # 벽/공백으로 변환\n",
        "        for j in range(n):\n",
        "            if arr1[i][j] == '0' and arr2[i][j] == '0':\n",
        "                map.append(' ')\n",
        "            else:\n",
        "                map.append('#')\n",
        "\n",
        "    # 출력 형태 맞추기\n",
        "    answer = [''.join(map[i:i+n]) for i in range(0,len(map),n)]\n",
        "\n",
        "    return answer\n"
      ],
      "metadata": {
        "id": "8HPwHXUtM8IN"
      },
      "execution_count": null,
      "outputs": []
    },
    {
      "cell_type": "code",
      "source": [
        "solution(5,[9, 20, 28, 18, 11],[30, 1, 21, 17, 28])  # [\"#####\",\"# # #\", \"### #\", \"#  ##\", \"#####\"]"
      ],
      "metadata": {
        "id": "-UDwVOGfM_aR",
        "colab": {
          "base_uri": "https://localhost:8080/"
        },
        "outputId": "d4cd03c6-d5eb-41ab-8e44-36f6f5fd6f64"
      },
      "execution_count": null,
      "outputs": [
        {
          "output_type": "stream",
          "name": "stdout",
          "text": [
            "['#', '#', '#', '#', '#', '#', ' ', '#', ' ', '#', '#', '#', '#', ' ', '#', '#', ' ', ' ', '#', '#', '#', '#', '#', '#', '#']\n"
          ]
        },
        {
          "output_type": "execute_result",
          "data": {
            "text/plain": [
              "['#####', '# # #', '### #', '#  ##', '#####']"
            ]
          },
          "metadata": {},
          "execution_count": 76
        }
      ]
    },
    {
      "cell_type": "code",
      "source": [
        "solution(6,[46, 33, 33 ,22, 31, 50],[27 ,56, 19, 14, 14, 10])  # [\"######\", \"###  #\", \"##  ##\", \" #### \", \" #####\", \"### # \"]"
      ],
      "metadata": {
        "id": "Mjfah9b5NKZh",
        "colab": {
          "base_uri": "https://localhost:8080/"
        },
        "outputId": "f7ad2327-9f98-4b77-eb57-e0ef8041fe61"
      },
      "execution_count": null,
      "outputs": [
        {
          "output_type": "execute_result",
          "data": {
            "text/plain": [
              "['######', '###  #', '##  ##', ' #### ', ' #####', '### # ']"
            ]
          },
          "metadata": {},
          "execution_count": 63
        }
      ]
    },
    {
      "cell_type": "code",
      "source": [
        "# 실행시간 10초 초과\n",
        "def solution(n, arr1, arr2):\n",
        "    bi_arr1=[]\n",
        "    bi_arr2=[]\n",
        "\n",
        "    # 1. 10진수 배열 => 2진수\n",
        "    for a in arr1:\n",
        "        a = bin(a).replace('0b','')\n",
        "        if len(a) != 5:\n",
        "            a = '0'+a\n",
        "        bi_arr1.append(a)\n",
        "\n",
        "    for a in arr2:\n",
        "        a = bin(a).replace('0b','')\n",
        "        while len(a) != 5:\n",
        "            a = '0'+a\n",
        "        bi_arr2.append(a)\n",
        "    \n",
        "    # 2. 2진수 배열 => n*n array\n",
        "    map_arr1 = [b for a in bi_arr1 for b in a]\n",
        "    map_arr2 = [b for a in bi_arr2 for b in a]\n",
        "\n",
        "    # 3. 벽과 공백 구분\n",
        "    map = [' ' if a == '0' and b == '0' else '#' for a,b in zip(map_arr1, map_arr2)]\n",
        "\n",
        "    # 4. 출력 형태 맞추기\n",
        "    answer = [map[i:i+n] for i in range(0,len(map),n)]\n",
        "    answer = [''.join(a) for a in answer]\n",
        "    return answer"
      ],
      "metadata": {
        "id": "DqkpuwYXOXsZ"
      },
      "execution_count": null,
      "outputs": []
    },
    {
      "cell_type": "code",
      "source": [
        "a='bananan'\n",
        "print(a[0])"
      ],
      "metadata": {
        "colab": {
          "base_uri": "https://localhost:8080/"
        },
        "id": "BOQug4JANbQg",
        "outputId": "83007c4a-763f-4439-c95a-eac86d06c253"
      },
      "execution_count": null,
      "outputs": [
        {
          "output_type": "stream",
          "name": "stdout",
          "text": [
            "b\n"
          ]
        }
      ]
    },
    {
      "cell_type": "markdown",
      "source": [
        "### reference"
      ],
      "metadata": {
        "id": "PNnVWIeQM35K"
      }
    },
    {
      "cell_type": "markdown",
      "source": [
        "- string.rjust(width[, char]) => width 길이로 오른쪽 정렬, char로 빈공간 채움(default='')"
      ],
      "metadata": {
        "id": "R0zG6bjHPSp6"
      }
    },
    {
      "cell_type": "code",
      "source": [
        "def solution(n, arr1, arr2):\n",
        "    answer = []\n",
        "    for i,j in zip(arr1,arr2):\n",
        "        a12 = str(bin(i|j)[2:])\n",
        "        a12=a12.rjust(n,'0')\n",
        "        a12=a12.replace('1','#')\n",
        "        a12=a12.replace('0',' ')\n",
        "        answer.append(a12)\n",
        "    return answer"
      ],
      "metadata": {
        "id": "P0c28cotPRLf"
      },
      "execution_count": null,
      "outputs": []
    }
  ]
}