{
  "nbformat": 4,
  "nbformat_minor": 0,
  "metadata": {
    "colab": {
      "name": "programmers_exhaustive_search.ipynb",
      "provenance": [],
      "collapsed_sections": [
        "ST5eSiYA5MSA"
      ],
      "authorship_tag": "ABX9TyNkowzHs1egnWJinXKyOFzD",
      "include_colab_link": true
    },
    "kernelspec": {
      "name": "python3",
      "display_name": "Python 3"
    },
    "language_info": {
      "name": "python"
    }
  },
  "cells": [
    {
      "cell_type": "markdown",
      "metadata": {
        "id": "view-in-github",
        "colab_type": "text"
      },
      "source": [
        "<a href=\"https://colab.research.google.com/github/wisesprout/algorithm-practice/blob/main/programmers_exhaustive_search.ipynb\" target=\"_parent\"><img src=\"https://colab.research.google.com/assets/colab-badge.svg\" alt=\"Open In Colab\"/></a>"
      ]
    },
    {
      "cell_type": "markdown",
      "source": [
        "# Level 1 모의고사"
      ],
      "metadata": {
        "id": "lWKXhfBk03FL"
      }
    },
    {
      "cell_type": "markdown",
      "source": [
        "### my solution"
      ],
      "metadata": {
        "id": "THpu0uwp06dy"
      }
    },
    {
      "cell_type": "markdown",
      "source": [
        "### zip으로 학생 정답/문제 정답 묶어서 비교 + 기본적인 최대값 구하기 *해결방법*"
      ],
      "metadata": {
        "id": "ST5eSiYA5MSA"
      }
    },
    {
      "cell_type": "code",
      "source": [
        "def solution(answers):\n",
        "    answers = answers\n",
        "    students = [[1,2,3,4,5],[2,1,2,3,2,4,2,5],[3,3,1,1,2,2,4,4,5,5]]\n",
        "    total=[]\n",
        "    for s in students:  #[1,2,3,4,5]\n",
        "        #print('학생:',s)\n",
        "        student_a = s*(len(answers)//len(s)+1)  # 답보다 긴 리스트로 만들기\n",
        "        student_a = student_a[:len(answers)]  # 답 길이와 일치하는 학생의 답안\n",
        "        print('학생답안:',student_a)\n",
        "        count = 0\n",
        "        for a, s_a in zip(answers,student_a):\n",
        "            if a == s_a:\n",
        "                count += 1\n",
        "        \n",
        "        total.append(count)\n",
        "\n",
        "    # 제일 많이 맞힌 학생의 인덱스+1\n",
        "    max = 0\n",
        "    answer=[]\n",
        "    print(total)\n",
        "    for i in range(3):\n",
        "        print('i:',i)\n",
        "        if total[i] >= max:\n",
        "            print(total[i],'와',max,'비교')\n",
        "            max = total[i]\n",
        "            print('새로운 max:',max)\n",
        "            answer.append(i+1)\n",
        "            print('answer:',answer)\n",
        "\n",
        "    return answer"
      ],
      "metadata": {
        "id": "_zqFtcCLcegI"
      },
      "execution_count": null,
      "outputs": []
    },
    {
      "cell_type": "code",
      "source": [
        "solution([1,2,3,4,5])  # [1]"
      ],
      "metadata": {
        "colab": {
          "base_uri": "https://localhost:8080/"
        },
        "id": "ByenTQejnFc4",
        "outputId": "c78513b2-35e7-4527-d8a3-794331ec6aed"
      },
      "execution_count": null,
      "outputs": [
        {
          "output_type": "stream",
          "name": "stdout",
          "text": [
            "학생답안: [1, 2, 3, 4, 5]\n",
            "학생답안: [2, 1, 2, 3, 2]\n",
            "학생답안: [3, 3, 1, 1, 2]\n",
            "[5, 0, 0]\n",
            "i: 0\n",
            "5 와 0 비교\n",
            "새로운 max: 5\n",
            "answer: [1]\n",
            "i: 1\n",
            "i: 2\n"
          ]
        },
        {
          "output_type": "execute_result",
          "data": {
            "text/plain": [
              "[1]"
            ]
          },
          "metadata": {},
          "execution_count": 3
        }
      ]
    },
    {
      "cell_type": "code",
      "source": [
        "solution([1,3,2,4,2])  # [1,2,3]"
      ],
      "metadata": {
        "colab": {
          "base_uri": "https://localhost:8080/"
        },
        "id": "N_21TiC-m7zg",
        "outputId": "c57a2042-538d-472a-e6f8-e6f40dda1dc7"
      },
      "execution_count": null,
      "outputs": [
        {
          "output_type": "stream",
          "name": "stdout",
          "text": [
            "학생답안: [1, 2, 3, 4, 5]\n",
            "학생답안: [2, 1, 2, 3, 2]\n",
            "학생답안: [3, 3, 1, 1, 2]\n",
            "[2, 2, 2]\n",
            "i: 0\n",
            "2 와 0 비교\n",
            "새로운 max: 2\n",
            "answer: [1]\n",
            "i: 1\n",
            "2 와 2 비교\n",
            "새로운 max: 2\n",
            "answer: [1, 2]\n",
            "i: 2\n",
            "2 와 2 비교\n",
            "새로운 max: 2\n",
            "answer: [1, 2, 3]\n"
          ]
        },
        {
          "output_type": "execute_result",
          "data": {
            "text/plain": [
              "[1, 2, 3]"
            ]
          },
          "metadata": {},
          "execution_count": 4
        }
      ]
    },
    {
      "cell_type": "code",
      "source": [
        "solution([1,2,3,4,5,6,7,8,9,10])"
      ],
      "metadata": {
        "colab": {
          "base_uri": "https://localhost:8080/"
        },
        "id": "G0MLjROps0Bo",
        "outputId": "4afb4e53-e67d-424b-d8e1-47625c508ea1"
      },
      "execution_count": null,
      "outputs": [
        {
          "output_type": "stream",
          "name": "stdout",
          "text": [
            "학생답안: [1, 2, 3, 4, 5, 1, 2, 3, 4, 5]\n",
            "학생답안: [2, 1, 2, 3, 2, 4, 2, 5, 2, 1]\n",
            "학생답안: [3, 3, 1, 1, 2, 2, 4, 4, 5, 5]\n",
            "[5, 0, 0]\n",
            "i: 0\n",
            "5 와 0 비교\n",
            "새로운 max: 5\n",
            "answer: [1]\n",
            "i: 1\n",
            "i: 2\n"
          ]
        },
        {
          "output_type": "execute_result",
          "data": {
            "text/plain": [
              "[1]"
            ]
          },
          "metadata": {},
          "execution_count": 5
        }
      ]
    },
    {
      "cell_type": "markdown",
      "source": [
        "### [정답] n번째 정답과 n/5의 나머지번째 학생 정답과 비교 + 간단한 최대값 구하기"
      ],
      "metadata": {
        "id": "PaFH_VPhu1XN"
      }
    },
    {
      "cell_type": "code",
      "source": [
        "def solution(answers):\n",
        "    answers = answers\n",
        "    students = [[1,2,3,4,5],[2,1,2,3,2,4,2,5],[3,3,1,1,2,2,4,4,5,5]]\n",
        "    total = []  # 학생별 맞힌 문제 수\n",
        "\n",
        "    # 채점\n",
        "    for s in students: # s번째 학생의 정답\n",
        "        count = 0  # 채점 전 맞힌 답 수\n",
        "        for i,a in enumerate(answers):  # a번째 문제의 답\n",
        "            if a == s[i%len(s)]:\n",
        "                count += 1\n",
        "        total.append(count)  # 채점 후 맞힌 답 수 추가\n",
        "\n",
        "    max_answer = max(total)  # 제일 많이 맞힌 정답 수\n",
        "    # 학생들의 정답 수와 최대 정답 수 비교, 일치하면 answer 리스트에 추가\n",
        "    answer = [i+1 for i in range(3) if total[i]==max_answer]  \n",
        "    return answer"
      ],
      "metadata": {
        "id": "dmgdR11QumGS"
      },
      "execution_count": null,
      "outputs": []
    },
    {
      "cell_type": "code",
      "source": [
        "solution([1,2,3,4,5])  # [1]"
      ],
      "metadata": {
        "colab": {
          "base_uri": "https://localhost:8080/"
        },
        "id": "f5jzaGx4x-OS",
        "outputId": "69ab956d-eee7-481a-ad12-4b0ec7227d3e"
      },
      "execution_count": null,
      "outputs": [
        {
          "output_type": "execute_result",
          "data": {
            "text/plain": [
              "[1]"
            ]
          },
          "metadata": {},
          "execution_count": 17
        }
      ]
    },
    {
      "cell_type": "code",
      "source": [
        "solution([1,3,2,4,2])  # [1,2,3]"
      ],
      "metadata": {
        "colab": {
          "base_uri": "https://localhost:8080/"
        },
        "id": "aCjkYKrFyAZR",
        "outputId": "eefab011-af93-4c26-f704-c412a781d03d"
      },
      "execution_count": null,
      "outputs": [
        {
          "output_type": "execute_result",
          "data": {
            "text/plain": [
              "[1, 2, 3]"
            ]
          },
          "metadata": {},
          "execution_count": 18
        }
      ]
    },
    {
      "cell_type": "markdown",
      "source": [
        "### reference code"
      ],
      "metadata": {
        "id": "rOBYnksP49fk"
      }
    },
    {
      "cell_type": "markdown",
      "source": [
        "![image.png](data:image/png;base64,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)"
      ],
      "metadata": {
        "id": "wN5-oMm35G-2"
      }
    },
    {
      "cell_type": "code",
      "source": [
        "def solution(answers):\n",
        "    pattern1 = [1,2,3,4,5]\n",
        "    pattern2 = [2,1,2,3,2,4,2,5]\n",
        "    pattern3 = [3,3,1,1,2,2,4,4,5,5]\n",
        "    score = [0, 0, 0]\n",
        "    result = []\n",
        "\n",
        "    for idx, answer in enumerate(answers):\n",
        "        if answer == pattern1[idx%len(pattern1)]:\n",
        "            score[0] += 1\n",
        "        if answer == pattern2[idx%len(pattern2)]:\n",
        "            score[1] += 1\n",
        "        if answer == pattern3[idx%len(pattern3)]:\n",
        "            score[2] += 1\n",
        "\n",
        "    for idx, s in enumerate(score):\n",
        "        if s == max(score):\n",
        "            result.append(idx+1)\n",
        "\n",
        "    return result"
      ],
      "metadata": {
        "id": "MMfKQHSwyDuf"
      },
      "execution_count": null,
      "outputs": []
    },
    {
      "cell_type": "markdown",
      "source": [
        "# Level 2 소수 찾기"
      ],
      "metadata": {
        "id": "6XY8MlqoOEV1"
      }
    },
    {
      "cell_type": "markdown",
      "source": [
        "### my solution"
      ],
      "metadata": {
        "id": "h5vBKocbOMit"
      }
    },
    {
      "cell_type": "code",
      "source": [
        "from itertools import permutations\n",
        "def solution(numbers):\n",
        "    a = set()\n",
        "    for i in range(len(numbers)):\n",
        "        a |= set(map(int, map(\"\".join, permutations(list(numbers), i + 1))))\n",
        "    a -= set(range(0, 2))\n",
        "    for i in range(2, int(max(a) ** 0.5) + 1):\n",
        "        a -= set(range(i * 2, max(a) + 1, i))\n",
        "    return len(a)"
      ],
      "metadata": {
        "id": "tyBvc0OiOI3y"
      },
      "execution_count": null,
      "outputs": []
    },
    {
      "cell_type": "code",
      "source": [
        ""
      ],
      "metadata": {
        "id": "H1R670jqnY90"
      },
      "execution_count": null,
      "outputs": []
    }
  ]
}