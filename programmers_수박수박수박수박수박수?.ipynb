{
  "nbformat": 4,
  "nbformat_minor": 0,
  "metadata": {
    "colab": {
      "name": "programmers_수박수박수박수박수박수?.ipynb",
      "provenance": [],
      "collapsed_sections": [],
      "authorship_tag": "ABX9TyOTR9ewEGGweBMVFv74qUtH",
      "include_colab_link": true
    },
    "kernelspec": {
      "name": "python3",
      "display_name": "Python 3"
    },
    "language_info": {
      "name": "python"
    }
  },
  "cells": [
    {
      "cell_type": "markdown",
      "metadata": {
        "id": "view-in-github",
        "colab_type": "text"
      },
      "source": [
        "<a href=\"https://colab.research.google.com/github/wisesprout/algorithm-practice/blob/main/programmers_%EC%88%98%EB%B0%95%EC%88%98%EB%B0%95%EC%88%98%EB%B0%95%EC%88%98%EB%B0%95%EC%88%98%EB%B0%95%EC%88%98%3F.ipynb\" target=\"_parent\"><img src=\"https://colab.research.google.com/assets/colab-badge.svg\" alt=\"Open In Colab\"/></a>"
      ]
    },
    {
      "cell_type": "markdown",
      "source": [
        "# 수박수박수박수박수박수?"
      ],
      "metadata": {
        "id": "G-hO0J_M6rWT"
      }
    },
    {
      "cell_type": "markdown",
      "source": [
        "### my solution"
      ],
      "metadata": {
        "id": "tU9uXHig6rYg"
      }
    },
    {
      "cell_type": "code",
      "execution_count": 3,
      "metadata": {
        "id": "Nrrn4G2n6cyl"
      },
      "outputs": [],
      "source": [
        "def solution(n):\n",
        "    answer = ''\n",
        "    for i in range(n):\n",
        "        if (i+1) % 2 == 0:\n",
        "            answer += '박'\n",
        "        else:\n",
        "            answer += '수'\n",
        "    \n",
        "    return answer"
      ]
    },
    {
      "cell_type": "code",
      "source": [
        "solution(3)  # '수박수'"
      ],
      "metadata": {
        "colab": {
          "base_uri": "https://localhost:8080/",
          "height": 35
        },
        "id": "11Ax-3Xn7Hq1",
        "outputId": "9368f44a-0139-424f-b365-531e3e17bb57"
      },
      "execution_count": 4,
      "outputs": [
        {
          "output_type": "execute_result",
          "data": {
            "text/plain": [
              "'수박수'"
            ],
            "application/vnd.google.colaboratory.intrinsic+json": {
              "type": "string"
            }
          },
          "metadata": {},
          "execution_count": 4
        }
      ]
    },
    {
      "cell_type": "code",
      "source": [
        "solution(4)  # '수박수박'"
      ],
      "metadata": {
        "colab": {
          "base_uri": "https://localhost:8080/",
          "height": 35
        },
        "id": "5vi0lAJT7PKI",
        "outputId": "8f695efa-08bb-4658-d7a7-f597c85af8ca"
      },
      "execution_count": 5,
      "outputs": [
        {
          "output_type": "execute_result",
          "data": {
            "text/plain": [
              "'수박수박'"
            ],
            "application/vnd.google.colaboratory.intrinsic+json": {
              "type": "string"
            }
          },
          "metadata": {},
          "execution_count": 5
        }
      ]
    },
    {
      "cell_type": "markdown",
      "source": [
        "### reference"
      ],
      "metadata": {
        "id": "vTymktEk6rae"
      }
    },
    {
      "cell_type": "code",
      "source": [
        "def water_melon(n):\n",
        "    s = \"수박\" * n\n",
        "    return s[:n]"
      ],
      "metadata": {
        "id": "EyI7eb7c6yXM"
      },
      "execution_count": null,
      "outputs": []
    }
  ]
}