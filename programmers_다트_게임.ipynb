{
  "nbformat": 4,
  "nbformat_minor": 0,
  "metadata": {
    "colab": {
      "name": "programmers_다트 게임.ipynb",
      "provenance": [],
      "collapsed_sections": [],
      "authorship_tag": "ABX9TyNAEm0yjrmbH0KsOZdXOZbF",
      "include_colab_link": true
    },
    "kernelspec": {
      "name": "python3",
      "display_name": "Python 3"
    },
    "language_info": {
      "name": "python"
    }
  },
  "cells": [
    {
      "cell_type": "markdown",
      "metadata": {
        "id": "view-in-github",
        "colab_type": "text"
      },
      "source": [
        "<a href=\"https://colab.research.google.com/github/wisesprout/algorithm-practice/blob/main/programmers_%EB%8B%A4%ED%8A%B8_%EA%B2%8C%EC%9E%84.ipynb\" target=\"_parent\"><img src=\"https://colab.research.google.com/assets/colab-badge.svg\" alt=\"Open In Colab\"/></a>"
      ]
    },
    {
      "cell_type": "markdown",
      "source": [
        "# 다트 게임"
      ],
      "metadata": {
        "id": "eidW1vhr9RcY"
      }
    },
    {
      "cell_type": "markdown",
      "source": [
        "### my solution"
      ],
      "metadata": {
        "id": "YtSkzhhn9Rec"
      }
    },
    {
      "cell_type": "code",
      "execution_count": 23,
      "metadata": {
        "id": "kFW2WhYH9NGk"
      },
      "outputs": [],
      "source": [
        "def solution(dartResult):\n",
        "    dartResult = list(dartResult)\n",
        "    answer=[]\n",
        "    dart = []\n",
        "\n",
        "    for i in range(len(dartResult)):\n",
        "        if dartResult[i] == '1' and dartResult[i+1] == '0':\n",
        "            dart.append('10')\n",
        "        elif dartResult[i] == '0' and dartResult[i-1] == '1':\n",
        "            continue\n",
        "        else:\n",
        "            dart.append(dartResult[i])\n",
        "\n",
        "    for i in range(1,len(dart)):\n",
        "        if dart[i] == 'S':\n",
        "            answer.append(int(dart[i-1]))\n",
        "        elif dart[i] == 'D':\n",
        "            answer.append(int(dart[i-1])**2)\n",
        "        elif dart[i] == 'T':\n",
        "            answer.append(int(dart[i-1])**3)\n",
        "\n",
        "        if dart[i] == '*':\n",
        "            try:\n",
        "                answer[-2] *= 2\n",
        "            except:\n",
        "                pass\n",
        "            answer[-1] *= 2\n",
        "        elif dart[i] == '#':\n",
        "            answer[-1] *= -1\n",
        "    \n",
        "    return sum(answer)"
      ]
    },
    {
      "cell_type": "code",
      "source": [
        "solution('1S2D*3T')  # 37"
      ],
      "metadata": {
        "colab": {
          "base_uri": "https://localhost:8080/"
        },
        "id": "8a13y79i9Xjp",
        "outputId": "ba9f5510-f63c-4797-f1fe-3a7052540d90"
      },
      "execution_count": 24,
      "outputs": [
        {
          "output_type": "execute_result",
          "data": {
            "text/plain": [
              "37"
            ]
          },
          "metadata": {},
          "execution_count": 24
        }
      ]
    },
    {
      "cell_type": "code",
      "source": [
        "solution('1D2S#10S')  # 9"
      ],
      "metadata": {
        "colab": {
          "base_uri": "https://localhost:8080/"
        },
        "id": "9J4_RuYgjQf8",
        "outputId": "6466a329-73c0-449b-df6a-77696262d82b"
      },
      "execution_count": 25,
      "outputs": [
        {
          "output_type": "execute_result",
          "data": {
            "text/plain": [
              "9"
            ]
          },
          "metadata": {},
          "execution_count": 25
        }
      ]
    },
    {
      "cell_type": "code",
      "source": [
        "solution('1D2S0T')  #\t3"
      ],
      "metadata": {
        "colab": {
          "base_uri": "https://localhost:8080/"
        },
        "id": "KYGvMvI_jZBZ",
        "outputId": "2a9f718c-54ce-4e29-8b8e-3c835e778eb9"
      },
      "execution_count": 26,
      "outputs": [
        {
          "output_type": "execute_result",
          "data": {
            "text/plain": [
              "3"
            ]
          },
          "metadata": {},
          "execution_count": 26
        }
      ]
    },
    {
      "cell_type": "code",
      "source": [
        "solution('1S*2T*3S')  # 23"
      ],
      "metadata": {
        "colab": {
          "base_uri": "https://localhost:8080/"
        },
        "id": "8JAwUKgSjfuf",
        "outputId": "287c12de-35fd-4fc8-8a5d-3b7e6b6431d2"
      },
      "execution_count": 27,
      "outputs": [
        {
          "output_type": "execute_result",
          "data": {
            "text/plain": [
              "23"
            ]
          },
          "metadata": {},
          "execution_count": 27
        }
      ]
    },
    {
      "cell_type": "code",
      "source": [
        "solution('1D#2S*3S')  # 5"
      ],
      "metadata": {
        "colab": {
          "base_uri": "https://localhost:8080/"
        },
        "id": "ZtL4-u_mjky-",
        "outputId": "3f992738-75b2-4101-9b56-07ddce1dfa9c"
      },
      "execution_count": 28,
      "outputs": [
        {
          "output_type": "execute_result",
          "data": {
            "text/plain": [
              "5"
            ]
          },
          "metadata": {},
          "execution_count": 28
        }
      ]
    },
    {
      "cell_type": "code",
      "source": [
        "solution('1T2D3D#')  # -4"
      ],
      "metadata": {
        "colab": {
          "base_uri": "https://localhost:8080/"
        },
        "id": "Cfb-jDixjpdH",
        "outputId": "3831df93-f73f-4f97-cf47-a932b8fa3757"
      },
      "execution_count": 29,
      "outputs": [
        {
          "output_type": "execute_result",
          "data": {
            "text/plain": [
              "-4"
            ]
          },
          "metadata": {},
          "execution_count": 29
        }
      ]
    },
    {
      "cell_type": "code",
      "source": [
        "solution('1D2S3T*')  # 59"
      ],
      "metadata": {
        "colab": {
          "base_uri": "https://localhost:8080/"
        },
        "id": "2rjTveLwjuw3",
        "outputId": "5c34b1c1-19b3-4672-ffe2-f30074f24ac2"
      },
      "execution_count": 30,
      "outputs": [
        {
          "output_type": "execute_result",
          "data": {
            "text/plain": [
              "59"
            ]
          },
          "metadata": {},
          "execution_count": 30
        }
      ]
    },
    {
      "cell_type": "markdown",
      "source": [
        "### reference"
      ],
      "metadata": {
        "id": "VGEKoWcM9RgY"
      }
    },
    {
      "cell_type": "code",
      "source": [
        ""
      ],
      "metadata": {
        "id": "gnYGo70q9Upq"
      },
      "execution_count": null,
      "outputs": []
    }
  ]
}