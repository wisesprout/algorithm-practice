{
  "nbformat": 4,
  "nbformat_minor": 0,
  "metadata": {
    "colab": {
      "name": "programmers_두 정수 사이의 합.ipynb",
      "provenance": [],
      "collapsed_sections": [],
      "authorship_tag": "ABX9TyPCO/zpF/rEwdJ9HJiHi0xL",
      "include_colab_link": true
    },
    "kernelspec": {
      "name": "python3",
      "display_name": "Python 3"
    },
    "language_info": {
      "name": "python"
    }
  },
  "cells": [
    {
      "cell_type": "markdown",
      "metadata": {
        "id": "view-in-github",
        "colab_type": "text"
      },
      "source": [
        "<a href=\"https://colab.research.google.com/github/wisesprout/algorithm-practice/blob/main/programmers_%EB%91%90_%EC%A0%95%EC%88%98_%EC%82%AC%EC%9D%B4%EC%9D%98_%ED%95%A9.ipynb\" target=\"_parent\"><img src=\"https://colab.research.google.com/assets/colab-badge.svg\" alt=\"Open In Colab\"/></a>"
      ]
    },
    {
      "cell_type": "markdown",
      "source": [
        "# 두 정수 사이의 합"
      ],
      "metadata": {
        "id": "nj3QX00ESH_o"
      }
    },
    {
      "cell_type": "markdown",
      "source": [
        "### my solution"
      ],
      "metadata": {
        "id": "Vsiv5ufISICa"
      }
    },
    {
      "cell_type": "code",
      "execution_count": null,
      "metadata": {
        "id": "jS5lmxdOSElo"
      },
      "outputs": [],
      "source": [
        "def solution(a,b):\n",
        "    if b < a:\n",
        "        temp = a\n",
        "        a = b\n",
        "        b = temp\n",
        "    answer = sum(i for i in range(a,b+1))\n",
        "    return answer"
      ]
    },
    {
      "cell_type": "code",
      "source": [
        "solution(3,5)  # 12"
      ],
      "metadata": {
        "colab": {
          "base_uri": "https://localhost:8080/"
        },
        "id": "5OkKQmrCSQdw",
        "outputId": "fffc9fe6-3bcd-43fa-e00c-ec1823df6d21"
      },
      "execution_count": null,
      "outputs": [
        {
          "output_type": "execute_result",
          "data": {
            "text/plain": [
              "12"
            ]
          },
          "metadata": {},
          "execution_count": 13
        }
      ]
    },
    {
      "cell_type": "code",
      "source": [
        "solution(3,3)  # 3"
      ],
      "metadata": {
        "colab": {
          "base_uri": "https://localhost:8080/"
        },
        "id": "L1232WmISS6A",
        "outputId": "f64cb54c-0fd6-4b5d-89b7-ff137eb6d5aa"
      },
      "execution_count": null,
      "outputs": [
        {
          "output_type": "execute_result",
          "data": {
            "text/plain": [
              "3"
            ]
          },
          "metadata": {},
          "execution_count": 14
        }
      ]
    },
    {
      "cell_type": "code",
      "source": [
        "solution(5,3)  # 12"
      ],
      "metadata": {
        "colab": {
          "base_uri": "https://localhost:8080/"
        },
        "id": "JLaZfmyeSU2o",
        "outputId": "51cea66b-d64e-4413-be23-0b18eb701d75"
      },
      "execution_count": null,
      "outputs": [
        {
          "output_type": "execute_result",
          "data": {
            "text/plain": [
              "12"
            ]
          },
          "metadata": {},
          "execution_count": 15
        }
      ]
    },
    {
      "cell_type": "markdown",
      "source": [
        "### reference"
      ],
      "metadata": {
        "id": "7I8ApSBVSIEg"
      }
    },
    {
      "cell_type": "markdown",
      "source": [
        "- 두 수 바꾸기"
      ],
      "metadata": {
        "id": "t4xWw5zpTJMK"
      }
    },
    {
      "cell_type": "code",
      "source": [
        "if a > b: \n",
        "    a, b = b, a"
      ],
      "metadata": {
        "id": "3d-2h2uvSLqg"
      },
      "execution_count": null,
      "outputs": []
    },
    {
      "cell_type": "markdown",
      "source": [
        "- for문 사용 없이 더하기"
      ],
      "metadata": {
        "id": "Upk8tE5ATMMn"
      }
    },
    {
      "cell_type": "code",
      "source": [
        "sum(range(a,b+1))"
      ],
      "metadata": {
        "id": "2tDXn7ooTHNo"
      },
      "execution_count": null,
      "outputs": []
    },
    {
      "cell_type": "markdown",
      "source": [
        "- 한 줄 코딩"
      ],
      "metadata": {
        "id": "hZiIayRDTYsE"
      }
    },
    {
      "cell_type": "code",
      "source": [
        "sum(range(a,b+1) if a <= b else range(b,a+1))"
      ],
      "metadata": {
        "id": "cdCSSJhnTYU6"
      },
      "execution_count": null,
      "outputs": []
    }
  ]
}